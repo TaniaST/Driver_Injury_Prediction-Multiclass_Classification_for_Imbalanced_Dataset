{
  "nbformat": 4,
  "nbformat_minor": 0,
  "metadata": {
    "accelerator": "GPU",
    "colab": {
      "name": "CNN Models.ipynb",
      "provenance": [],
      "collapsed_sections": []
    },
    "kernelspec": {
      "display_name": "Python 3",
      "language": "python",
      "name": "python3"
    },
    "language_info": {
      "codemirror_mode": {
        "name": "ipython",
        "version": 3
      },
      "file_extension": ".py",
      "mimetype": "text/x-python",
      "name": "python",
      "nbconvert_exporter": "python",
      "pygments_lexer": "ipython3",
      "version": "3.7.3"
    }
  },
  "cells": [
    {
      "cell_type": "code",
      "metadata": {
        "id": "DS60Jgn31n9W"
      },
      "source": [
        "#importing libraries\n",
        "import matplotlib.pyplot as plt\n",
        "import numpy as np\n",
        "import tensorflow as tf\n",
        "import os\n",
        "from tensorflow.keras.callbacks import TensorBoard\n",
        "from datetime import datetime\n",
        "from tensorflow import keras\n",
        "import scipy as sp\n",
        "#from scipy import sparse\n",
        "from keras.layers import BatchNormalization\n",
        "from tensorflow.keras import activations\n",
        "import pandas as pd\n",
        "from sklearn.model_selection import train_test_split\n",
        "#from sklearn.preprocessing import LabelEncoder\n",
        "from sklearn.preprocessing import OneHotEncoder\n",
        "from sklearn.preprocessing import LabelBinarizer\n",
        "from sklearn.preprocessing import LabelEncoder\n",
        "\n",
        "from sklearn.preprocessing import MinMaxScaler\n",
        "from keras.callbacks import LearningRateScheduler\n",
        "from keras.utils import np_utils\n",
        "from keras.models import Sequential\n",
        "from keras.layers import Dense\n",
        "from keras.layers import Conv1D\n",
        "from keras.layers import Flatten\n",
        "from keras.layers import Dropout\n",
        "from keras.layers import LayerNormalization\n",
        "from sklearn.utils import class_weight\n",
        "from matplotlib import pyplot\n",
        "from sklearn.metrics import accuracy_score\n",
        "from sklearn.metrics import precision_score\n",
        "from sklearn.metrics import recall_score\n",
        "from sklearn.metrics import f1_score\n",
        "from sklearn.preprocessing import StandardScaler\n",
        "\n",
        "np.set_printoptions(suppress=True)\n",
        "import seaborn as sns\n",
        "from sklearn.metrics import classification_report\n",
        "import matplotlib.pyplot as plt\n",
        "from sklearn.metrics import confusion_matrix\n",
        "from sklearn.metrics import matthews_corrcoef\n",
        "\n"
      ],
      "execution_count": null,
      "outputs": []
    },
    {
      "cell_type": "markdown",
      "metadata": {
        "id": "F5DSPSM9HvVz"
      },
      "source": [
        "### Importing dataset"
      ]
    },
    {
      "cell_type": "markdown",
      "metadata": {
        "id": "VmvY-14O3rZJ"
      },
      "source": [
        "reading csv from a local drive"
      ]
    },
    {
      "cell_type": "code",
      "metadata": {
        "colab": {
          "resources": {
            "http://localhost:8080/nbextensions/google.colab/files.js": {
              "data": "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",
              "ok": true,
              "headers": [
                [
                  "content-type",
                  "application/javascript"
                ]
              ],
              "status": 200,
              "status_text": ""
            }
          },
          "base_uri": "https://localhost:8080/",
          "height": 73
        },
        "id": "jQ1KYEH_3eu9",
        "outputId": "e034d27d-067c-493c-c4f2-14eae95ed94c"
      },
      "source": [
        "from google.colab import files\n",
        "uploaded = files.upload()"
      ],
      "execution_count": null,
      "outputs": [
        {
          "output_type": "display_data",
          "data": {
            "text/html": [
              "\n",
              "     <input type=\"file\" id=\"files-e5aaeb47-55bc-446d-8c8f-23258e0e5474\" name=\"files[]\" multiple disabled\n",
              "        style=\"border:none\" />\n",
              "     <output id=\"result-e5aaeb47-55bc-446d-8c8f-23258e0e5474\">\n",
              "      Upload widget is only available when the cell has been executed in the\n",
              "      current browser session. Please rerun this cell to enable.\n",
              "      </output>\n",
              "      <script src=\"/nbextensions/google.colab/files.js\"></script> "
            ],
            "text/plain": [
              "<IPython.core.display.HTML object>"
            ]
          },
          "metadata": {
            "tags": []
          }
        },
        {
          "output_type": "stream",
          "text": [
            "Saving subset_2class_agg.csv to subset_2class_agg.csv\n"
          ],
          "name": "stdout"
        }
      ]
    },
    {
      "cell_type": "code",
      "metadata": {
        "id": "b59Ucr3l30lp"
      },
      "source": [
        "import io\n",
        "df = pd.read_csv(io.BytesIO(uploaded['subset_2class_agg.csv']))\n",
        "# Dataset is now stored in a Pandas Dataframe"
      ],
      "execution_count": null,
      "outputs": []
    },
    {
      "cell_type": "markdown",
      "metadata": {
        "id": "itnFCIasTsFZ"
      },
      "source": [
        "##CNN Architecture\n",
        "\n",
        "Even if a typical input is a 2D matrix representation of the\n",
        "image, 1D convolutional layers in the network can deal with numerical inputs. We have used the CNN with 1D convolution layers for our non-image dataset. CNN models have been trained on standardised data only and have been designed in two ways: one – directly built for four classes outcome variable, and another – created using transfer learning methodology by taking weights from a CNN model with two classes target variable and freezing the first five convolution building blocks. \n",
        "\n",
        "The same architecture has been used for all the models (except the loss function and and the activation function of the final dense layer which changes for the binary outcome): seven convolution building blocks (3 blocks with 64 filters, 2 blocks - with 128 filters and 2 blocks - with 256), a flatten layer and two fully connected layers. The size of the kernel has been chosen as 1, as we use non-image data. No padding has been applied either (setting parameter padding to “valid”). Padding refers to adding pixels to the edges of the image, and thus is non-applicable in our case. Batch normalisation is applied in each convolution building block before passing the feature maps to a nonlinear activation function (to stabilise and accelerate the learning process). The feature maps are then passed to a nonlinear activation function (the rectified linear unit (ReLu) function which is defined as: f(x)=max(0,x)). In a classical CNN structure, the output of the activation function is then pulled to a pooling layer representing a downsampling technique, reducing the dimensions of feature maps. As we do not use the images input, we just pass the kernel size as 1 during the convolution step, and so no pooling is needed in our case. After going through all the convolution building blocks, the output tensor is flattened to a one-dimensional vector and passed to fully connected layers also called dense, where each input is connected to each output by a learnable weight. The activation function of the fully connected layers except the last one is also ReLu. The last fully connected layer transforms the output tensors into probabilities of each class summing up to 1. The activation function for this layer is soft-max for the model directly built for the four classes output and sigmoid for the binary outcome model trained for the transfer learning approach.\n",
        "\n",
        "The loss function is categorical cross-entropy for the four classes output model and binary cross-entropy for the binary outcome.\n",
        "\n",
        "## Training parameters:\n",
        "- dynamic learning rate schedule with 0.01 learning rate for the first 20 epochs, 0.0001 - for the next 20 epochs and then - 0.00001 for the remaining epochs;\n",
        "- number of epochs – 60;\n",
        "- batch size - 32."
      ]
    },
    {
      "cell_type": "markdown",
      "metadata": {
        "id": "VisZ0d0cXWQ7"
      },
      "source": [
        "# 1. CNN Model for two classes output"
      ]
    },
    {
      "cell_type": "markdown",
      "metadata": {
        "id": "mP9xyJx4VMbT"
      },
      "source": [
        "Preparing data"
      ]
    },
    {
      "cell_type": "code",
      "metadata": {
        "id": "5SCSaqIZRLrn"
      },
      "source": [
        "df_X=df.drop(columns=['Num_Acc', 'severity', 'severity2', 'journey_reason', 'atmospheric_cond', 'road_type', 'surface_state', 'road_slope', \n",
        "                      'junction_type','secu_equipment', 'traffic_type', 'acc_place_on_road'])\n"
      ],
      "execution_count": null,
      "outputs": []
    },
    {
      "cell_type": "code",
      "metadata": {
        "id": "k08d1LgzSFo3"
      },
      "source": [
        "#getting list of categorical columns\n",
        "var2=list(df_X.select_dtypes(include='object').columns)\n",
        "#getting list of numerical columns\n",
        "varn=list(df_X.select_dtypes(include='number').columns)"
      ],
      "execution_count": null,
      "outputs": []
    },
    {
      "cell_type": "code",
      "metadata": {
        "id": "ZHdd_3YwSp5e"
      },
      "source": [
        "#formatting all categorical variables as strings\n",
        "df_X[var2]=df_X[var2].astype(str)"
      ],
      "execution_count": null,
      "outputs": []
    },
    {
      "cell_type": "code",
      "metadata": {
        "id": "PkMDJW34-Tqp"
      },
      "source": [
        "#formatting target variable\n",
        "factor=pd.factorize(df['severity2'])\n",
        "df['fact_y']=factor[0]\n",
        "y= df['fact_y'].values"
      ],
      "execution_count": null,
      "outputs": []
    },
    {
      "cell_type": "code",
      "metadata": {
        "id": "CU27VqbkXA3N"
      },
      "source": [
        "# prepare input data with standardisation\n",
        "def prepare_inputs(df, X_train, X_test): \n",
        "  continuous = list(df.select_dtypes(include='number').columns) \n",
        "  categorical = list(df.select_dtypes(include='object').columns)\n",
        "\t# standardizing scaling each continuous feature column \n",
        "  cs = StandardScaler()\n",
        "  trainContinuous = cs.fit_transform(X_train[continuous])\n",
        "  testContinuous = cs.transform(X_test[continuous])\n",
        "  #one-hot encoding for categorical features\n",
        "  Binarizer= OneHotEncoder().fit(df[categorical])\n",
        "  trainCategorical = Binarizer.transform(X_train[categorical])\n",
        "  testCategorical = Binarizer.transform(X_test[categorical])\n",
        "  #adding standardisation for categorical variables\n",
        "  scaler = StandardScaler(with_mean=False)\n",
        "  trainCategorical2 = scaler.fit_transform(trainCategorical)\n",
        "  testCategorical2 = scaler.transform(testCategorical)\n",
        "\n",
        "\t# construct our training and testing data points by concatenating\n",
        "\t# the categorical features with the continuous features\n",
        "  trainX = np.hstack([trainCategorical2.toarray(),trainContinuous])\n",
        "  testX = np.hstack([testCategorical2.toarray(),testContinuous])\n",
        "\t# return the concatenated training and testing data\n",
        "  return (trainX, testX)\n",
        "\n",
        "# prepare target\n",
        "def prepare_targets(y_train, y_test):\n",
        "  le = LabelEncoder().fit(y_train)\n",
        "  y_train_enc = le.transform(y_train)\n",
        "  y_test_enc = le.transform(y_test)\n",
        "  y_test_enc_inv=le.inverse_transform(y_test_enc)\n",
        "  return y_train_enc, y_test_enc, y_test_enc_inv"
      ],
      "execution_count": null,
      "outputs": []
    },
    {
      "cell_type": "code",
      "metadata": {
        "id": "MFHcsCzKV2bb"
      },
      "source": [
        "# split into train and test sets\n",
        "X_train, X_test, y_train, y_test = train_test_split(df_X, y, test_size=0.33, random_state=1)\n"
      ],
      "execution_count": null,
      "outputs": []
    },
    {
      "cell_type": "code",
      "metadata": {
        "id": "7Uzm0zC7zzsb"
      },
      "source": [
        "# prepare input data\n",
        "trainX, testX= prepare_inputs(df_X, X_train, X_test)\n",
        "# prepare output data\n",
        "y_train_enc, y_test_enc, y_test_enc_inv = prepare_targets(y_train, y_test)"
      ],
      "execution_count": null,
      "outputs": []
    },
    {
      "cell_type": "code",
      "metadata": {
        "id": "yE1AkVAxTmwX"
      },
      "source": [
        "#reshaping the data for convolutional layers\n",
        "trainX2=trainX.reshape(trainX.shape[0],trainX.shape[1],1)\n",
        "testX2=testX.reshape(testX.shape[0],testX.shape[1],1)"
      ],
      "execution_count": null,
      "outputs": []
    },
    {
      "cell_type": "markdown",
      "metadata": {
        "id": "25ALey6yL61w"
      },
      "source": [
        "###adding checkpoint and lr schedule\n"
      ]
    },
    {
      "cell_type": "code",
      "metadata": {
        "id": "6xsr3uQB73CG"
      },
      "source": [
        "\n",
        "checkpoint_path = \"training_8/cp.ckpt\"\n",
        "checkpoint_dir = os.path.dirname(checkpoint_path)\n",
        "\n",
        "# Create a callback that saves the model's weights\n",
        "cp_callback = tf.keras.callbacks.ModelCheckpoint(filepath=checkpoint_path,\n",
        "                                                 save_weights_only=True,\n",
        "                                                 verbose=1)"
      ],
      "execution_count": null,
      "outputs": []
    },
    {
      "cell_type": "code",
      "metadata": {
        "id": "9iSHU2M9axLh"
      },
      "source": [
        "def sched(epoch):\n",
        "  if epoch<=20:\n",
        "    return 1e-2\n",
        "  elif epoch<=40:\n",
        "    return 1e-4\n",
        "  else:\n",
        "    return 1e-5\n",
        "lr_schedule=LearningRateScheduler(sched)"
      ],
      "execution_count": null,
      "outputs": []
    },
    {
      "cell_type": "code",
      "metadata": {
        "id": "knIWYnUAkRA4"
      },
      "source": [
        "#creating layers\n",
        "conv_1=tf.keras.layers.Conv1D(filters=64, kernel_size=1, kernel_regularizer='l1', padding='valid', input_shape=(trainX2.shape[1],1))\n",
        "conv_2=tf.keras.layers.Conv1D(filters=128, kernel_size=1, kernel_regularizer='l1', padding='valid')\n",
        "conv_3=tf.keras.layers.Conv1D(filters=256, kernel_size=1, kernel_regularizer='l1', padding='valid')\n",
        "conv_layer2=tf.keras.layers.Conv1D(filters=64,kernel_size=1,padding='valid')\n",
        "conv_layer2_2=tf.keras.layers.Conv1D(filters=64,kernel_size=1,padding='valid')\n",
        "conv_layer3=tf.keras.layers.Conv1D(filters=128,kernel_size=1,padding='valid')\n",
        "conv_layer3_3=tf.keras.layers.Conv1D(filters=128,kernel_size=1,padding='valid')\n",
        "\n",
        "conv_layer4=tf.keras.layers.Conv1D(filters=256,kernel_size=1,padding='valid')\n",
        "conv_layer4_3=tf.keras.layers.Conv1D(filters=256,kernel_size=1,padding='valid')\n",
        "\n",
        "flat_layer=Flatten()\n",
        "dense_1=Dense(128, activation='relu', kernel_regularizer='l1')\n",
        "\n",
        "dense_2=Dense(1, activation='sigmoid')"
      ],
      "execution_count": null,
      "outputs": []
    },
    {
      "cell_type": "code",
      "metadata": {
        "colab": {
          "base_uri": "https://localhost:8080/"
        },
        "id": "4yZhBIUcQgJX",
        "outputId": "9760dcd5-3380-421d-b640-f7d370678b86"
      },
      "source": [
        "#creating model\n",
        "mod2=Sequential()\n",
        "mod2.add(conv_1)\n",
        "mod2.add(tf.keras.layers.BatchNormalization())\n",
        "mod2.add(tf.keras.layers.Activation('relu'))\n",
        "\n",
        "\n",
        "mod2.add(conv_layer2)\n",
        "mod2.add(tf.keras.layers.BatchNormalization())\n",
        "mod2.add(tf.keras.layers.Activation('relu'))\n",
        "\n",
        "\n",
        "mod2.add(conv_layer2_2)\n",
        "mod2.add(tf.keras.layers.BatchNormalization())\n",
        "mod2.add(tf.keras.layers.Activation('relu'))\n",
        "\n",
        "\n",
        "mod2.add(conv_layer3)\n",
        "mod2.add(tf.keras.layers.BatchNormalization())\n",
        "mod2.add(tf.keras.layers.Activation('relu'))\n",
        "\n",
        "mod2.add(conv_layer3_3)\n",
        "mod2.add(tf.keras.layers.BatchNormalization())\n",
        "mod2.add(tf.keras.layers.Activation('relu'))\n",
        "\n",
        "mod2.add(conv_layer4)\n",
        "mod2.add(tf.keras.layers.BatchNormalization())\n",
        "mod2.add(tf.keras.layers.Activation('relu'))\n",
        "\n",
        "mod2.add(conv_layer4_3)\n",
        "mod2.add(tf.keras.layers.BatchNormalization())\n",
        "mod2.add(tf.keras.layers.Activation('relu'))\n",
        "\n",
        "\n",
        "mod2.add(flat_layer)\n",
        "mod2.add(dense_1)\n",
        "mod2.add(dense_2)\n",
        "\n",
        "mod2.summary()\n",
        "\n",
        "mod2.output_shape"
      ],
      "execution_count": null,
      "outputs": [
        {
          "output_type": "stream",
          "text": [
            "Model: \"sequential\"\n",
            "_________________________________________________________________\n",
            "Layer (type)                 Output Shape              Param #   \n",
            "=================================================================\n",
            "conv1d (Conv1D)              (None, 14, 64)            128       \n",
            "_________________________________________________________________\n",
            "batch_normalization (BatchNo (None, 14, 64)            256       \n",
            "_________________________________________________________________\n",
            "activation (Activation)      (None, 14, 64)            0         \n",
            "_________________________________________________________________\n",
            "conv1d_3 (Conv1D)            (None, 14, 64)            4160      \n",
            "_________________________________________________________________\n",
            "batch_normalization_1 (Batch (None, 14, 64)            256       \n",
            "_________________________________________________________________\n",
            "activation_1 (Activation)    (None, 14, 64)            0         \n",
            "_________________________________________________________________\n",
            "conv1d_4 (Conv1D)            (None, 14, 64)            4160      \n",
            "_________________________________________________________________\n",
            "batch_normalization_2 (Batch (None, 14, 64)            256       \n",
            "_________________________________________________________________\n",
            "activation_2 (Activation)    (None, 14, 64)            0         \n",
            "_________________________________________________________________\n",
            "conv1d_5 (Conv1D)            (None, 14, 128)           8320      \n",
            "_________________________________________________________________\n",
            "batch_normalization_3 (Batch (None, 14, 128)           512       \n",
            "_________________________________________________________________\n",
            "activation_3 (Activation)    (None, 14, 128)           0         \n",
            "_________________________________________________________________\n",
            "conv1d_6 (Conv1D)            (None, 14, 128)           16512     \n",
            "_________________________________________________________________\n",
            "batch_normalization_4 (Batch (None, 14, 128)           512       \n",
            "_________________________________________________________________\n",
            "activation_4 (Activation)    (None, 14, 128)           0         \n",
            "_________________________________________________________________\n",
            "conv1d_7 (Conv1D)            (None, 14, 256)           33024     \n",
            "_________________________________________________________________\n",
            "batch_normalization_5 (Batch (None, 14, 256)           1024      \n",
            "_________________________________________________________________\n",
            "activation_5 (Activation)    (None, 14, 256)           0         \n",
            "_________________________________________________________________\n",
            "conv1d_8 (Conv1D)            (None, 14, 256)           65792     \n",
            "_________________________________________________________________\n",
            "batch_normalization_6 (Batch (None, 14, 256)           1024      \n",
            "_________________________________________________________________\n",
            "activation_6 (Activation)    (None, 14, 256)           0         \n",
            "_________________________________________________________________\n",
            "flatten (Flatten)            (None, 3584)              0         \n",
            "_________________________________________________________________\n",
            "dense (Dense)                (None, 128)               458880    \n",
            "_________________________________________________________________\n",
            "dense_1 (Dense)              (None, 1)                 129       \n",
            "=================================================================\n",
            "Total params: 594,945\n",
            "Trainable params: 593,025\n",
            "Non-trainable params: 1,920\n",
            "_________________________________________________________________\n"
          ],
          "name": "stdout"
        },
        {
          "output_type": "execute_result",
          "data": {
            "text/plain": [
              "(None, 1)"
            ]
          },
          "metadata": {
            "tags": []
          },
          "execution_count": 15
        }
      ]
    },
    {
      "cell_type": "code",
      "metadata": {
        "colab": {
          "base_uri": "https://localhost:8080/",
          "height": 1000
        },
        "id": "ieAEqAW5SdBD",
        "outputId": "cad87078-13f8-4eeb-8ca6-4c41ce6e08dd"
      },
      "source": [
        "#compile the model\n",
        "mod2.compile(loss='binary_crossentropy', optimizer='adam', metrics=['accuracy'])\n",
        "# fit the model on the dataset\n",
        "history=mod2.fit(trainX2, y_train_enc, epochs=60, batch_size=32, shuffle=True, callbacks=[lr_schedule,cp_callback], validation_data=(testX2, y_test_enc), verbose=1)\n",
        "# evaluate the model\n",
        "_, train_acc = mod2.evaluate(trainX2, y_train_enc, verbose=0)\n",
        "_, test_acc = mod2.evaluate(testX2, y_test_enc, verbose=0)\n",
        "print('Train: %.3f, Test: %.3f' % (train_acc, test_acc))\n",
        "# plot loss during training\n",
        "pyplot.subplot(211)\n",
        "pyplot.title('Loss')\n",
        "pyplot.plot(history.history['loss'], label='train')\n",
        "pyplot.plot(history.history['val_loss'], label='test')\n",
        "pyplot.legend()\n",
        "pyplot.show()\n",
        "# plot accuracy during training\n",
        "pyplot.subplot(212)\n",
        "pyplot.title('Accuracy')\n",
        "pyplot.plot(history.history['accuracy'], label='train')\n",
        "pyplot.plot(history.history['val_accuracy'], label='test')\n",
        "pyplot.legend()\n",
        "pyplot.show()"
      ],
      "execution_count": null,
      "outputs": [
        {
          "output_type": "stream",
          "text": [
            "Epoch 1/60\n",
            "5337/5337 [==============================] - 53s 10ms/step - loss: 6.1315 - accuracy: 0.6175 - val_loss: 5.6199 - val_accuracy: 0.5944\n",
            "\n",
            "Epoch 00001: saving model to training_8/cp.ckpt\n",
            "Epoch 2/60\n",
            "5337/5337 [==============================] - 50s 9ms/step - loss: 5.6304 - accuracy: 0.6342 - val_loss: 5.8008 - val_accuracy: 0.5586\n",
            "\n",
            "Epoch 00002: saving model to training_8/cp.ckpt\n",
            "Epoch 3/60\n",
            "5337/5337 [==============================] - 49s 9ms/step - loss: 5.6317 - accuracy: 0.6301 - val_loss: 5.5946 - val_accuracy: 0.5782\n",
            "\n",
            "Epoch 00003: saving model to training_8/cp.ckpt\n",
            "Epoch 4/60\n",
            "5337/5337 [==============================] - 49s 9ms/step - loss: 5.6216 - accuracy: 0.6417 - val_loss: 5.6374 - val_accuracy: 0.6425\n",
            "\n",
            "Epoch 00004: saving model to training_8/cp.ckpt\n",
            "Epoch 5/60\n",
            "5337/5337 [==============================] - 50s 9ms/step - loss: 5.6247 - accuracy: 0.6366 - val_loss: 5.6151 - val_accuracy: 0.6456\n",
            "\n",
            "Epoch 00005: saving model to training_8/cp.ckpt\n",
            "Epoch 6/60\n",
            "5337/5337 [==============================] - 50s 9ms/step - loss: 5.6267 - accuracy: 0.6358 - val_loss: 5.7294 - val_accuracy: 0.5854\n",
            "\n",
            "Epoch 00006: saving model to training_8/cp.ckpt\n",
            "Epoch 7/60\n",
            "5337/5337 [==============================] - 51s 9ms/step - loss: 5.6242 - accuracy: 0.6362 - val_loss: 5.5902 - val_accuracy: 0.5608\n",
            "\n",
            "Epoch 00007: saving model to training_8/cp.ckpt\n",
            "Epoch 8/60\n",
            "5337/5337 [==============================] - 51s 10ms/step - loss: 5.6260 - accuracy: 0.6378 - val_loss: 5.6712 - val_accuracy: 0.6443\n",
            "\n",
            "Epoch 00008: saving model to training_8/cp.ckpt\n",
            "Epoch 9/60\n",
            "5337/5337 [==============================] - 50s 9ms/step - loss: 5.6311 - accuracy: 0.6367 - val_loss: 5.5793 - val_accuracy: 0.6388\n",
            "\n",
            "Epoch 00009: saving model to training_8/cp.ckpt\n",
            "Epoch 10/60\n",
            "5337/5337 [==============================] - 50s 9ms/step - loss: 5.6278 - accuracy: 0.6382 - val_loss: 5.6840 - val_accuracy: 0.6416\n",
            "\n",
            "Epoch 00010: saving model to training_8/cp.ckpt\n",
            "Epoch 11/60\n",
            "5337/5337 [==============================] - 50s 9ms/step - loss: 5.6321 - accuracy: 0.6376 - val_loss: 5.7133 - val_accuracy: 0.5782\n",
            "\n",
            "Epoch 00011: saving model to training_8/cp.ckpt\n",
            "Epoch 12/60\n",
            "5337/5337 [==============================] - 51s 10ms/step - loss: 5.6303 - accuracy: 0.6374 - val_loss: 5.6384 - val_accuracy: 0.6450\n",
            "\n",
            "Epoch 00012: saving model to training_8/cp.ckpt\n",
            "Epoch 13/60\n",
            "5337/5337 [==============================] - 50s 9ms/step - loss: 5.6273 - accuracy: 0.6394 - val_loss: 5.6386 - val_accuracy: 0.6466\n",
            "\n",
            "Epoch 00013: saving model to training_8/cp.ckpt\n",
            "Epoch 14/60\n",
            "5337/5337 [==============================] - 49s 9ms/step - loss: 5.6291 - accuracy: 0.6345 - val_loss: 5.7172 - val_accuracy: 0.5782\n",
            "\n",
            "Epoch 00014: saving model to training_8/cp.ckpt\n",
            "Epoch 15/60\n",
            "5337/5337 [==============================] - 50s 9ms/step - loss: 5.6263 - accuracy: 0.6382 - val_loss: 5.6047 - val_accuracy: 0.5782\n",
            "\n",
            "Epoch 00015: saving model to training_8/cp.ckpt\n",
            "Epoch 16/60\n",
            "5337/5337 [==============================] - 50s 9ms/step - loss: 5.6332 - accuracy: 0.6349 - val_loss: 5.7218 - val_accuracy: 0.5782\n",
            "\n",
            "Epoch 00016: saving model to training_8/cp.ckpt\n",
            "Epoch 17/60\n",
            "5337/5337 [==============================] - 50s 9ms/step - loss: 5.6327 - accuracy: 0.6363 - val_loss: 5.5675 - val_accuracy: 0.6193\n",
            "\n",
            "Epoch 00017: saving model to training_8/cp.ckpt\n",
            "Epoch 18/60\n",
            "5337/5337 [==============================] - 51s 9ms/step - loss: 5.6299 - accuracy: 0.6378 - val_loss: 5.7024 - val_accuracy: 0.6456\n",
            "\n",
            "Epoch 00018: saving model to training_8/cp.ckpt\n",
            "Epoch 19/60\n",
            "5337/5337 [==============================] - 51s 9ms/step - loss: 5.6303 - accuracy: 0.6358 - val_loss: 5.5984 - val_accuracy: 0.5782\n",
            "\n",
            "Epoch 00019: saving model to training_8/cp.ckpt\n",
            "Epoch 20/60\n",
            "5337/5337 [==============================] - 50s 9ms/step - loss: 5.6341 - accuracy: 0.6345 - val_loss: 5.6688 - val_accuracy: 0.6463\n",
            "\n",
            "Epoch 00020: saving model to training_8/cp.ckpt\n",
            "Epoch 21/60\n",
            "5337/5337 [==============================] - 51s 9ms/step - loss: 5.6325 - accuracy: 0.6339 - val_loss: 5.6464 - val_accuracy: 0.6381\n",
            "\n",
            "Epoch 00021: saving model to training_8/cp.ckpt\n",
            "Epoch 22/60\n",
            "5337/5337 [==============================] - 50s 9ms/step - loss: 0.8231 - accuracy: 0.6390 - val_loss: 0.7094 - val_accuracy: 0.6462\n",
            "\n",
            "Epoch 00022: saving model to training_8/cp.ckpt\n",
            "Epoch 23/60\n",
            "5337/5337 [==============================] - 50s 9ms/step - loss: 0.7101 - accuracy: 0.6414 - val_loss: 0.7033 - val_accuracy: 0.6460\n",
            "\n",
            "Epoch 00023: saving model to training_8/cp.ckpt\n",
            "Epoch 24/60\n",
            "5337/5337 [==============================] - 51s 9ms/step - loss: 0.7038 - accuracy: 0.6408 - val_loss: 0.7253 - val_accuracy: 0.6090\n",
            "\n",
            "Epoch 00024: saving model to training_8/cp.ckpt\n",
            "Epoch 25/60\n",
            "5337/5337 [==============================] - 50s 9ms/step - loss: 0.7025 - accuracy: 0.6439 - val_loss: 0.8226 - val_accuracy: 0.5782\n",
            "\n",
            "Epoch 00025: saving model to training_8/cp.ckpt\n",
            "Epoch 26/60\n",
            "5337/5337 [==============================] - 50s 9ms/step - loss: 0.7018 - accuracy: 0.6413 - val_loss: 0.7094 - val_accuracy: 0.6430\n",
            "\n",
            "Epoch 00026: saving model to training_8/cp.ckpt\n",
            "Epoch 27/60\n",
            "5337/5337 [==============================] - 50s 9ms/step - loss: 0.7016 - accuracy: 0.6412 - val_loss: 0.7500 - val_accuracy: 0.4828\n",
            "\n",
            "Epoch 00027: saving model to training_8/cp.ckpt\n",
            "Epoch 28/60\n",
            "5337/5337 [==============================] - 50s 9ms/step - loss: 0.7005 - accuracy: 0.6403 - val_loss: 0.6972 - val_accuracy: 0.6463\n",
            "\n",
            "Epoch 00028: saving model to training_8/cp.ckpt\n",
            "Epoch 29/60\n",
            "5337/5337 [==============================] - 50s 9ms/step - loss: 0.6992 - accuracy: 0.6425 - val_loss: 0.7554 - val_accuracy: 0.5376\n",
            "\n",
            "Epoch 00029: saving model to training_8/cp.ckpt\n",
            "Epoch 30/60\n",
            "5337/5337 [==============================] - 50s 9ms/step - loss: 0.6994 - accuracy: 0.6429 - val_loss: 0.6969 - val_accuracy: 0.6450\n",
            "\n",
            "Epoch 00030: saving model to training_8/cp.ckpt\n",
            "Epoch 31/60\n",
            "5337/5337 [==============================] - 49s 9ms/step - loss: 0.6997 - accuracy: 0.6426 - val_loss: 0.6974 - val_accuracy: 0.6463\n",
            "\n",
            "Epoch 00031: saving model to training_8/cp.ckpt\n",
            "Epoch 32/60\n",
            "5337/5337 [==============================] - 49s 9ms/step - loss: 0.6977 - accuracy: 0.6438 - val_loss: 0.7010 - val_accuracy: 0.6440\n",
            "\n",
            "Epoch 00032: saving model to training_8/cp.ckpt\n",
            "Epoch 33/60\n",
            "5337/5337 [==============================] - 49s 9ms/step - loss: 0.6984 - accuracy: 0.6443 - val_loss: 0.6963 - val_accuracy: 0.6462\n",
            "\n",
            "Epoch 00033: saving model to training_8/cp.ckpt\n",
            "Epoch 34/60\n",
            "5337/5337 [==============================] - 49s 9ms/step - loss: 0.6981 - accuracy: 0.6439 - val_loss: 0.6964 - val_accuracy: 0.6449\n",
            "\n",
            "Epoch 00034: saving model to training_8/cp.ckpt\n",
            "Epoch 35/60\n",
            "5337/5337 [==============================] - 49s 9ms/step - loss: 0.6977 - accuracy: 0.6444 - val_loss: 0.6968 - val_accuracy: 0.6461\n",
            "\n",
            "Epoch 00035: saving model to training_8/cp.ckpt\n",
            "Epoch 36/60\n",
            "5337/5337 [==============================] - 50s 9ms/step - loss: 0.6983 - accuracy: 0.6427 - val_loss: 0.7387 - val_accuracy: 0.5782\n",
            "\n",
            "Epoch 00036: saving model to training_8/cp.ckpt\n",
            "Epoch 37/60\n",
            "5337/5337 [==============================] - 49s 9ms/step - loss: 0.6970 - accuracy: 0.6438 - val_loss: 0.6964 - val_accuracy: 0.6464\n",
            "\n",
            "Epoch 00037: saving model to training_8/cp.ckpt\n",
            "Epoch 38/60\n",
            "5337/5337 [==============================] - 49s 9ms/step - loss: 0.6965 - accuracy: 0.6445 - val_loss: 0.6972 - val_accuracy: 0.6453\n",
            "\n",
            "Epoch 00038: saving model to training_8/cp.ckpt\n",
            "Epoch 39/60\n",
            "5337/5337 [==============================] - 50s 9ms/step - loss: 0.6967 - accuracy: 0.6442 - val_loss: 0.7084 - val_accuracy: 0.6173\n",
            "\n",
            "Epoch 00039: saving model to training_8/cp.ckpt\n",
            "Epoch 40/60\n",
            "5337/5337 [==============================] - 50s 9ms/step - loss: 0.6972 - accuracy: 0.6433 - val_loss: 0.6950 - val_accuracy: 0.6465\n",
            "\n",
            "Epoch 00040: saving model to training_8/cp.ckpt\n",
            "Epoch 41/60\n",
            "5337/5337 [==============================] - 50s 9ms/step - loss: 0.6969 - accuracy: 0.6440 - val_loss: 0.7113 - val_accuracy: 0.6020\n",
            "\n",
            "Epoch 00041: saving model to training_8/cp.ckpt\n",
            "Epoch 42/60\n",
            "5337/5337 [==============================] - 50s 9ms/step - loss: 0.6471 - accuracy: 0.6441 - val_loss: 0.8009 - val_accuracy: 0.4272\n",
            "\n",
            "Epoch 00042: saving model to training_8/cp.ckpt\n",
            "Epoch 43/60\n",
            "5337/5337 [==============================] - 49s 9ms/step - loss: 0.6478 - accuracy: 0.6431 - val_loss: 0.6449 - val_accuracy: 0.6467\n",
            "\n",
            "Epoch 00043: saving model to training_8/cp.ckpt\n",
            "Epoch 44/60\n",
            "5337/5337 [==============================] - 49s 9ms/step - loss: 0.6462 - accuracy: 0.6429 - val_loss: 0.7252 - val_accuracy: 0.4218\n",
            "\n",
            "Epoch 00044: saving model to training_8/cp.ckpt\n",
            "Epoch 45/60\n",
            "5337/5337 [==============================] - 49s 9ms/step - loss: 0.6459 - accuracy: 0.6452 - val_loss: 0.6476 - val_accuracy: 0.6448\n",
            "\n",
            "Epoch 00045: saving model to training_8/cp.ckpt\n",
            "Epoch 46/60\n",
            "5337/5337 [==============================] - 48s 9ms/step - loss: 0.6474 - accuracy: 0.6446 - val_loss: 0.6470 - val_accuracy: 0.6453\n",
            "\n",
            "Epoch 00046: saving model to training_8/cp.ckpt\n",
            "Epoch 47/60\n",
            "5337/5337 [==============================] - 49s 9ms/step - loss: 0.6466 - accuracy: 0.6434 - val_loss: 0.6528 - val_accuracy: 0.6456\n",
            "\n",
            "Epoch 00047: saving model to training_8/cp.ckpt\n",
            "Epoch 48/60\n",
            "5337/5337 [==============================] - 48s 9ms/step - loss: 0.6486 - accuracy: 0.6435 - val_loss: 0.6512 - val_accuracy: 0.6421\n",
            "\n",
            "Epoch 00048: saving model to training_8/cp.ckpt\n",
            "Epoch 49/60\n",
            "5337/5337 [==============================] - 49s 9ms/step - loss: 0.6452 - accuracy: 0.6469 - val_loss: 0.6450 - val_accuracy: 0.6469\n",
            "\n",
            "Epoch 00049: saving model to training_8/cp.ckpt\n",
            "Epoch 50/60\n",
            "5337/5337 [==============================] - 49s 9ms/step - loss: 0.6461 - accuracy: 0.6437 - val_loss: 0.6448 - val_accuracy: 0.6465\n",
            "\n",
            "Epoch 00050: saving model to training_8/cp.ckpt\n",
            "Epoch 51/60\n",
            "5337/5337 [==============================] - 49s 9ms/step - loss: 0.6458 - accuracy: 0.6444 - val_loss: 0.6448 - val_accuracy: 0.6471\n",
            "\n",
            "Epoch 00051: saving model to training_8/cp.ckpt\n",
            "Epoch 52/60\n",
            "5337/5337 [==============================] - 49s 9ms/step - loss: 0.6451 - accuracy: 0.6447 - val_loss: 0.6446 - val_accuracy: 0.6470\n",
            "\n",
            "Epoch 00052: saving model to training_8/cp.ckpt\n",
            "Epoch 53/60\n",
            "5337/5337 [==============================] - 49s 9ms/step - loss: 0.6462 - accuracy: 0.6429 - val_loss: 0.6459 - val_accuracy: 0.6467\n",
            "\n",
            "Epoch 00053: saving model to training_8/cp.ckpt\n",
            "Epoch 54/60\n",
            "5337/5337 [==============================] - 49s 9ms/step - loss: 0.6454 - accuracy: 0.6444 - val_loss: 0.6445 - val_accuracy: 0.6456\n",
            "\n",
            "Epoch 00054: saving model to training_8/cp.ckpt\n",
            "Epoch 55/60\n",
            "5337/5337 [==============================] - 49s 9ms/step - loss: 0.6470 - accuracy: 0.6437 - val_loss: 0.6456 - val_accuracy: 0.6467\n",
            "\n",
            "Epoch 00055: saving model to training_8/cp.ckpt\n",
            "Epoch 56/60\n",
            "5337/5337 [==============================] - 49s 9ms/step - loss: 0.6462 - accuracy: 0.6443 - val_loss: 0.6447 - val_accuracy: 0.6455\n",
            "\n",
            "Epoch 00056: saving model to training_8/cp.ckpt\n",
            "Epoch 57/60\n",
            "5337/5337 [==============================] - 49s 9ms/step - loss: 0.6476 - accuracy: 0.6444 - val_loss: 0.6472 - val_accuracy: 0.6456\n",
            "\n",
            "Epoch 00057: saving model to training_8/cp.ckpt\n",
            "Epoch 58/60\n",
            "5337/5337 [==============================] - 49s 9ms/step - loss: 0.6466 - accuracy: 0.6428 - val_loss: 0.6476 - val_accuracy: 0.6457\n",
            "\n",
            "Epoch 00058: saving model to training_8/cp.ckpt\n",
            "Epoch 59/60\n",
            "5337/5337 [==============================] - 50s 9ms/step - loss: 0.6455 - accuracy: 0.6449 - val_loss: 0.6515 - val_accuracy: 0.6452\n",
            "\n",
            "Epoch 00059: saving model to training_8/cp.ckpt\n",
            "Epoch 60/60\n",
            "5337/5337 [==============================] - 49s 9ms/step - loss: 0.6465 - accuracy: 0.6433 - val_loss: 0.6472 - val_accuracy: 0.6454\n",
            "\n",
            "Epoch 00060: saving model to training_8/cp.ckpt\n",
            "Train: 0.644, Test: 0.645\n"
          ],
          "name": "stdout"
        },
        {
          "output_type": "display_data",
          "data": {
            "image/png": "[encoded data removed]",
            "text/plain": [
              "<Figure size 432x288 with 1 Axes>"
            ]
          },
          "metadata": {
            "tags": [],
            "needs_background": "light"
          }
        },
        {
          "output_type": "display_data",
          "data": {
            "image/png": "[encoded data removed]",
            "text/plain": [
              "<Figure size 432x288 with 1 Axes>"
            ]
          },
          "metadata": {
            "tags": [],
            "needs_background": "light"
          }
        }
      ]
    },
    {
      "cell_type": "code",
      "metadata": {
        "id": "WbWVrFreJODw"
      },
      "source": [
        "# predict probabilities for test set\n",
        "yh_probs = mod2.predict(testX2, verbose=0)\n",
        "# predict classes for test set\n",
        "yh_classes = np.argmax(mod2.predict(testX2), axis=-1)"
      ],
      "execution_count": null,
      "outputs": []
    },
    {
      "cell_type": "markdown",
      "metadata": {
        "id": "QSphL_FIJjGJ"
      },
      "source": [
        "### Evaluating binary CNN Model"
      ]
    },
    {
      "cell_type": "code",
      "metadata": {
        "id": "Oc4O4jm3HH9z",
        "colab": {
          "base_uri": "https://localhost:8080/"
        },
        "outputId": "489131ba-75a9-4506-ea30-58500832a263"
      },
      "source": [
        "#calculating macro-averaged accuracy metrics \n",
        "# accuracy: (tp + tn) / (p + n)\n",
        "accuracy = accuracy_score(y_test_enc_inv, yh_classes)\n",
        "print('Accuracy: %f' % accuracy)\n",
        "# precision tp / (tp + fp)\n",
        "precision = precision_score(y_test_enc_inv, yh_classes, average='macro')\n",
        "print('Precision: %f' % precision)\n",
        "# recall: tp / (tp + fn)\n",
        "recall = recall_score(y_test_enc_inv, yh_classes, average='macro')\n",
        "print('Recall: %f' % recall)\n",
        "# f1: 2 tp / (2 tp + fp + fn)\n",
        "f1 = f1_score(y_test_enc_inv, yh_classes, average='macro')\n",
        "print('F1 score: %f' % f1)"
      ],
      "execution_count": null,
      "outputs": [
        {
          "output_type": "stream",
          "text": [
            "Accuracy: 0.578186\n",
            "Precision: 0.289093\n",
            "Recall: 0.500000\n",
            "F1 score: 0.366361\n"
          ],
          "name": "stdout"
        },
        {
          "output_type": "stream",
          "text": [
            "/usr/local/lib/python3.7/dist-packages/sklearn/metrics/_classification.py:1272: UndefinedMetricWarning: Precision is ill-defined and being set to 0.0 in labels with no predicted samples. Use `zero_division` parameter to control this behavior.\n",
            "  _warn_prf(average, modifier, msg_start, len(result))\n"
          ],
          "name": "stderr"
        }
      ]
    },
    {
      "cell_type": "code",
      "metadata": {
        "id": "-X1mATHXe-FA",
        "colab": {
          "base_uri": "https://localhost:8080/"
        },
        "outputId": "89e7a076-35a1-4e98-8fe2-291e8fdf9fa3"
      },
      "source": [
        "\n",
        "# accuracy: (tp + tn) / (p + n)\n",
        "accuracy = accuracy_score(y_test_enc_inv, yh_classes)\n",
        "print('Accuracy: %f' % accuracy)\n",
        "# precision tp / (tp + fp)\n",
        "precision = precision_score(y_test_enc_inv, yh_classes, average='micro')\n",
        "print('Precision: %f' % precision)\n",
        "# recall: tp / (tp + fn)\n",
        "recall = recall_score(y_test_enc_inv, yh_classes, average='micro')\n",
        "print('Recall: %f' % recall)\n",
        "# f1: 2 tp / (2 tp + fp + fn)\n",
        "f1 = f1_score(y_test_enc_inv, yh_classes, average='micro')\n",
        "print('F1 score: %f' % f1)"
      ],
      "execution_count": null,
      "outputs": [
        {
          "output_type": "stream",
          "text": [
            "Accuracy: 0.578186\n",
            "Precision: 0.578186\n",
            "Recall: 0.578186\n",
            "F1 score: 0.578186\n"
          ],
          "name": "stdout"
        }
      ]
    },
    {
      "cell_type": "markdown",
      "metadata": {
        "id": "ed16zMN_B5qC"
      },
      "source": [
        "#2. Multiclass CNN model using transfer learning\n",
        "After having trained the model for two classes (see the code above), we save the weights of the model and transfer them to the new model with the same structure, except the last dense layer, where for four-class CNN, we put the soft-max activation function instead of the sigmoid one. The training loss function in the new four classes model is again the categorical cross entropy. Before training the new model, we freeze several layers – all the convolution building blocks, except the last two. The idea behind this freezing lies in the fact, that the first convolution layers learn the general patterns of the data, so we can transfer this knowledge and use it in the new model without training again. The last convolution layers and the dense layers allow to learn the patterns specific to the task in hand, so need to be trained specifically for the new model. The training hyperparameters for the four-class CNN with transferred weights have been kept the same as in the previous cases."
      ]
    },
    {
      "cell_type": "code",
      "metadata": {
        "id": "_qoaF6bvbVUi"
      },
      "source": [
        "#preparing target variable\n",
        "factor=pd.factorize(df['severity'])\n",
        "df['fact_y_4class']=factor[0]\n",
        "y4=df['fact_y_4class'].values"
      ],
      "execution_count": null,
      "outputs": []
    },
    {
      "cell_type": "code",
      "metadata": {
        "id": "rd2yClLGV6gB"
      },
      "source": [
        "# prepare input data with standardisation\n",
        "def prepare_inputs(df, X_train, X_test): \n",
        "  continuous = list(df.select_dtypes(include='number').columns) \n",
        "  categorical = list(df.select_dtypes(include='object').columns)\n",
        "\t# performing standardizing scaling each continuous feature column \n",
        "  cs = StandardScaler()\n",
        "  trainContinuous = cs.fit_transform(X_train[continuous])\n",
        "  testContinuous = cs.transform(X_test[continuous])\n",
        "  #one-hot encoding for categorical variables\n",
        "  Binarizer= OneHotEncoder().fit(df[categorical])\n",
        "  trainCategorical = Binarizer.transform(X_train[categorical])\n",
        "  testCategorical = Binarizer.transform(X_test[categorical])\n",
        "  #adding standardisation for categorical variables\n",
        "  scaler = StandardScaler(with_mean=False)\n",
        "  trainCategorical2 = scaler.fit_transform(trainCategorical)\n",
        "  testCategorical2 = scaler.transform(testCategorical)\n",
        "\n",
        "\t# construct our training and testing data points by concatenating\n",
        "\t# the categorical features with the continuous features\n",
        "  trainX = np.hstack([trainCategorical2.toarray(),trainContinuous])\n",
        "  testX = np.hstack([testCategorical2.toarray(),testContinuous])\n",
        "\t# return the concatenated training and testing data\n",
        "  return (trainX, testX)\n",
        "\n",
        "# prepare target\n",
        "def prepare_targets(y_train, y_test):\n",
        "  le = LabelBinarizer().fit(y_train)\n",
        "  y_train_enc = le.transform(y_train)\n",
        "  y_test_enc = le.transform(y_test)\n",
        "  y_test_enc_inv=le.inverse_transform(y_test_enc)\n",
        "  return y_train_enc, y_test_enc, y_test_enc_inv"
      ],
      "execution_count": null,
      "outputs": []
    },
    {
      "cell_type": "code",
      "metadata": {
        "id": "GalJiGQOWHhw"
      },
      "source": [
        "# split into train and test sets\n",
        "X_train, X_test, y_train, y_test = train_test_split(df_X, y4, test_size=0.33, random_state=1)"
      ],
      "execution_count": null,
      "outputs": []
    },
    {
      "cell_type": "code",
      "metadata": {
        "id": "d-GAE9HgWQ9I"
      },
      "source": [
        "# prepare input data\n",
        "trainX, testX= prepare_inputs(df_X, X_train, X_test)\n",
        "# prepare output data\n",
        "y_train_enc, y_test_enc, y_test_enc_inv = prepare_targets(y_train, y_test)\n"
      ],
      "execution_count": null,
      "outputs": []
    },
    {
      "cell_type": "code",
      "metadata": {
        "id": "-6OA8ImGWXz2"
      },
      "source": [
        "#reshaping the data for convolutional layers\n",
        "trainX2=trainX.reshape(trainX.shape[0],trainX.shape[1],1)\n",
        "testX2=testX.reshape(testX.shape[0],testX.shape[1],1)"
      ],
      "execution_count": null,
      "outputs": []
    },
    {
      "cell_type": "code",
      "metadata": {
        "id": "3wQpQDv4Wgsb"
      },
      "source": [
        "#computing class weights to handle imbalance\n",
        "y_integers = np.argmax(y_train_enc, axis=1)\n",
        "class_weights = class_weight.compute_class_weight('balanced', np.unique(y_integers), y_integers)\n",
        "d_class_weights = dict(enumerate(class_weights))"
      ],
      "execution_count": null,
      "outputs": []
    },
    {
      "cell_type": "code",
      "metadata": {
        "id": "PcOHxV7fWixw"
      },
      "source": [
        "# adding dense layer with 4 classes\n",
        "dense_2_4=Dense(4, activation='softmax')"
      ],
      "execution_count": null,
      "outputs": []
    },
    {
      "cell_type": "code",
      "metadata": {
        "id": "4RLsU-2Oh2-L"
      },
      "source": [
        "#transfer learning - saving weights of binary CNN model\n",
        "mod2.save_weights(\"pretrained_weights.h5\")"
      ],
      "execution_count": null,
      "outputs": []
    },
    {
      "cell_type": "code",
      "metadata": {
        "id": "RG22CjYxW7L9",
        "colab": {
          "base_uri": "https://localhost:8080/"
        },
        "outputId": "f5a2fa30-5a9f-4850-896b-e7dd69ea620f"
      },
      "source": [
        "#creating multiclass CNN model\n",
        "model_4class=Sequential()\n",
        "model_4class.add(conv_1)\n",
        "model_4class.add(tf.keras.layers.BatchNormalization())\n",
        "model_4class.add(tf.keras.layers.Activation('relu'))\n",
        "\n",
        "\n",
        "model_4class.add(conv_layer2)\n",
        "model_4class.add(tf.keras.layers.BatchNormalization())\n",
        "model_4class.add(tf.keras.layers.Activation('relu'))\n",
        "\n",
        "\n",
        "model_4class.add(conv_layer2_2)\n",
        "model_4class.add(tf.keras.layers.BatchNormalization())\n",
        "model_4class.add(tf.keras.layers.Activation('relu'))\n",
        "\n",
        "\n",
        "model_4class.add(conv_layer3)\n",
        "model_4class.add(tf.keras.layers.BatchNormalization())\n",
        "model_4class.add(tf.keras.layers.Activation('relu'))\n",
        "\n",
        "model_4class.add(conv_layer3_3)\n",
        "model_4class.add(tf.keras.layers.BatchNormalization())\n",
        "model_4class.add(tf.keras.layers.Activation('relu'))\n",
        "\n",
        "model_4class.add(conv_layer4)\n",
        "model_4class.add(tf.keras.layers.BatchNormalization())\n",
        "model_4class.add(tf.keras.layers.Activation('relu'))\n",
        "\n",
        "model_4class.add(conv_layer4_3)\n",
        "model_4class.add(tf.keras.layers.BatchNormalization())\n",
        "model_4class.add(tf.keras.layers.Activation('relu'))\n",
        "\n",
        "\n",
        "model_4class.add(flat_layer)\n",
        "model_4class.add(dense_1)\n",
        "model_4class.add(dense_2)\n",
        "model_4class.summary()\n",
        "\n",
        "model_4class.output_shape"
      ],
      "execution_count": null,
      "outputs": [
        {
          "output_type": "stream",
          "text": [
            "Model: \"sequential_2\"\n",
            "_________________________________________________________________\n",
            "Layer (type)                 Output Shape              Param #   \n",
            "=================================================================\n",
            "conv1d (Conv1D)              (None, 14, 64)            128       \n",
            "_________________________________________________________________\n",
            "batch_normalization_7 (Batch (None, 14, 64)            256       \n",
            "_________________________________________________________________\n",
            "activation_10 (Activation)   (None, 14, 64)            0         \n",
            "_________________________________________________________________\n",
            "conv1d_3 (Conv1D)            (None, 14, 64)            4160      \n",
            "_________________________________________________________________\n",
            "batch_normalization_8 (Batch (None, 14, 64)            256       \n",
            "_________________________________________________________________\n",
            "activation_11 (Activation)   (None, 14, 64)            0         \n",
            "_________________________________________________________________\n",
            "conv1d_4 (Conv1D)            (None, 14, 64)            4160      \n",
            "_________________________________________________________________\n",
            "batch_normalization_9 (Batch (None, 14, 64)            256       \n",
            "_________________________________________________________________\n",
            "activation_12 (Activation)   (None, 14, 64)            0         \n",
            "_________________________________________________________________\n",
            "conv1d_5 (Conv1D)            (None, 14, 128)           8320      \n",
            "_________________________________________________________________\n",
            "batch_normalization_10 (Batc (None, 14, 128)           512       \n",
            "_________________________________________________________________\n",
            "activation_13 (Activation)   (None, 14, 128)           0         \n",
            "_________________________________________________________________\n",
            "conv1d_6 (Conv1D)            (None, 14, 128)           16512     \n",
            "_________________________________________________________________\n",
            "batch_normalization_11 (Batc (None, 14, 128)           512       \n",
            "_________________________________________________________________\n",
            "activation_14 (Activation)   (None, 14, 128)           0         \n",
            "_________________________________________________________________\n",
            "conv1d_7 (Conv1D)            (None, 14, 256)           33024     \n",
            "_________________________________________________________________\n",
            "batch_normalization_12 (Batc (None, 14, 256)           1024      \n",
            "_________________________________________________________________\n",
            "activation_15 (Activation)   (None, 14, 256)           0         \n",
            "_________________________________________________________________\n",
            "conv1d_8 (Conv1D)            (None, 14, 256)           65792     \n",
            "_________________________________________________________________\n",
            "batch_normalization_13 (Batc (None, 14, 256)           1024      \n",
            "_________________________________________________________________\n",
            "activation_16 (Activation)   (None, 14, 256)           0         \n",
            "_________________________________________________________________\n",
            "flatten (Flatten)            (None, 3584)              0         \n",
            "_________________________________________________________________\n",
            "dense (Dense)                (None, 128)               458880    \n",
            "_________________________________________________________________\n",
            "dense_1 (Dense)              (None, 1)                 129       \n",
            "=================================================================\n",
            "Total params: 594,945\n",
            "Trainable params: 593,025\n",
            "Non-trainable params: 1,920\n",
            "_________________________________________________________________\n"
          ],
          "name": "stdout"
        },
        {
          "output_type": "execute_result",
          "data": {
            "text/plain": [
              "(None, 1)"
            ]
          },
          "metadata": {
            "tags": []
          },
          "execution_count": 59
        }
      ]
    },
    {
      "cell_type": "code",
      "metadata": {
        "id": "79N4ghVGiBNe",
        "colab": {
          "base_uri": "https://localhost:8080/"
        },
        "outputId": "e6dc397e-e2b2-4726-d4df-465b15f5149a"
      },
      "source": [
        "# In a separate program:\n",
        "pretrained_model = model_4class\n",
        "pretrained_model.load_weights(\"pretrained_weights.h5\")\n",
        "\n",
        "# Create a new model by extracting layers from the original model:\n",
        "extracted_layers = pretrained_model.layers[:-1]\n",
        "extracted_layers.append(dense_2_4)\n",
        "model = keras.Sequential(extracted_layers)\n",
        "model.summary()"
      ],
      "execution_count": null,
      "outputs": [
        {
          "output_type": "stream",
          "text": [
            "Model: \"sequential_3\"\n",
            "_________________________________________________________________\n",
            "Layer (type)                 Output Shape              Param #   \n",
            "=================================================================\n",
            "conv1d (Conv1D)              (None, 14, 64)            128       \n",
            "_________________________________________________________________\n",
            "batch_normalization_7 (Batch (None, 14, 64)            256       \n",
            "_________________________________________________________________\n",
            "activation_10 (Activation)   (None, 14, 64)            0         \n",
            "_________________________________________________________________\n",
            "conv1d_3 (Conv1D)            (None, 14, 64)            4160      \n",
            "_________________________________________________________________\n",
            "batch_normalization_8 (Batch (None, 14, 64)            256       \n",
            "_________________________________________________________________\n",
            "activation_11 (Activation)   (None, 14, 64)            0         \n",
            "_________________________________________________________________\n",
            "conv1d_4 (Conv1D)            (None, 14, 64)            4160      \n",
            "_________________________________________________________________\n",
            "batch_normalization_9 (Batch (None, 14, 64)            256       \n",
            "_________________________________________________________________\n",
            "activation_12 (Activation)   (None, 14, 64)            0         \n",
            "_________________________________________________________________\n",
            "conv1d_5 (Conv1D)            (None, 14, 128)           8320      \n",
            "_________________________________________________________________\n",
            "batch_normalization_10 (Batc (None, 14, 128)           512       \n",
            "_________________________________________________________________\n",
            "activation_13 (Activation)   (None, 14, 128)           0         \n",
            "_________________________________________________________________\n",
            "conv1d_6 (Conv1D)            (None, 14, 128)           16512     \n",
            "_________________________________________________________________\n",
            "batch_normalization_11 (Batc (None, 14, 128)           512       \n",
            "_________________________________________________________________\n",
            "activation_14 (Activation)   (None, 14, 128)           0         \n",
            "_________________________________________________________________\n",
            "conv1d_7 (Conv1D)            (None, 14, 256)           33024     \n",
            "_________________________________________________________________\n",
            "batch_normalization_12 (Batc (None, 14, 256)           1024      \n",
            "_________________________________________________________________\n",
            "activation_15 (Activation)   (None, 14, 256)           0         \n",
            "_________________________________________________________________\n",
            "conv1d_8 (Conv1D)            (None, 14, 256)           65792     \n",
            "_________________________________________________________________\n",
            "batch_normalization_13 (Batc (None, 14, 256)           1024      \n",
            "_________________________________________________________________\n",
            "activation_16 (Activation)   (None, 14, 256)           0         \n",
            "_________________________________________________________________\n",
            "flatten (Flatten)            (None, 3584)              0         \n",
            "_________________________________________________________________\n",
            "dense (Dense)                (None, 128)               458880    \n",
            "_________________________________________________________________\n",
            "dense_2 (Dense)              (None, 4)                 516       \n",
            "=================================================================\n",
            "Total params: 595,332\n",
            "Trainable params: 593,412\n",
            "Non-trainable params: 1,920\n",
            "_________________________________________________________________\n"
          ],
          "name": "stdout"
        }
      ]
    },
    {
      "cell_type": "code",
      "metadata": {
        "id": "iHaEUb9AYHRq"
      },
      "source": [
        "#freezing layers\n",
        "for layer in model.layers[:15]:\n",
        "  layer.trainable = False"
      ],
      "execution_count": null,
      "outputs": []
    },
    {
      "cell_type": "code",
      "metadata": {
        "id": "iHRV1y8gkTd_",
        "colab": {
          "base_uri": "https://localhost:8080/"
        },
        "outputId": "68dad2ee-1101-452e-b949-cec8dc0083f7"
      },
      "source": [
        "#checking the number of trainable parameters\n",
        "model.summary()"
      ],
      "execution_count": null,
      "outputs": [
        {
          "output_type": "stream",
          "text": [
            "Model: \"sequential_3\"\n",
            "_________________________________________________________________\n",
            "Layer (type)                 Output Shape              Param #   \n",
            "=================================================================\n",
            "conv1d (Conv1D)              (None, 14, 64)            128       \n",
            "_________________________________________________________________\n",
            "batch_normalization_7 (Batch (None, 14, 64)            256       \n",
            "_________________________________________________________________\n",
            "activation_10 (Activation)   (None, 14, 64)            0         \n",
            "_________________________________________________________________\n",
            "conv1d_3 (Conv1D)            (None, 14, 64)            4160      \n",
            "_________________________________________________________________\n",
            "batch_normalization_8 (Batch (None, 14, 64)            256       \n",
            "_________________________________________________________________\n",
            "activation_11 (Activation)   (None, 14, 64)            0         \n",
            "_________________________________________________________________\n",
            "conv1d_4 (Conv1D)            (None, 14, 64)            4160      \n",
            "_________________________________________________________________\n",
            "batch_normalization_9 (Batch (None, 14, 64)            256       \n",
            "_________________________________________________________________\n",
            "activation_12 (Activation)   (None, 14, 64)            0         \n",
            "_________________________________________________________________\n",
            "conv1d_5 (Conv1D)            (None, 14, 128)           8320      \n",
            "_________________________________________________________________\n",
            "batch_normalization_10 (Batc (None, 14, 128)           512       \n",
            "_________________________________________________________________\n",
            "activation_13 (Activation)   (None, 14, 128)           0         \n",
            "_________________________________________________________________\n",
            "conv1d_6 (Conv1D)            (None, 14, 128)           16512     \n",
            "_________________________________________________________________\n",
            "batch_normalization_11 (Batc (None, 14, 128)           512       \n",
            "_________________________________________________________________\n",
            "activation_14 (Activation)   (None, 14, 128)           0         \n",
            "_________________________________________________________________\n",
            "conv1d_7 (Conv1D)            (None, 14, 256)           33024     \n",
            "_________________________________________________________________\n",
            "batch_normalization_12 (Batc (None, 14, 256)           1024      \n",
            "_________________________________________________________________\n",
            "activation_15 (Activation)   (None, 14, 256)           0         \n",
            "_________________________________________________________________\n",
            "conv1d_8 (Conv1D)            (None, 14, 256)           65792     \n",
            "_________________________________________________________________\n",
            "batch_normalization_13 (Batc (None, 14, 256)           1024      \n",
            "_________________________________________________________________\n",
            "activation_16 (Activation)   (None, 14, 256)           0         \n",
            "_________________________________________________________________\n",
            "flatten (Flatten)            (None, 3584)              0         \n",
            "_________________________________________________________________\n",
            "dense (Dense)                (None, 128)               458880    \n",
            "_________________________________________________________________\n",
            "dense_2 (Dense)              (None, 4)                 516       \n",
            "=================================================================\n",
            "Total params: 595,332\n",
            "Trainable params: 559,236\n",
            "Non-trainable params: 36,096\n",
            "_________________________________________________________________\n"
          ],
          "name": "stdout"
        }
      ]
    },
    {
      "cell_type": "code",
      "metadata": {
        "colab": {
          "base_uri": "https://localhost:8080/"
        },
        "id": "TXa7AIdxmM7W",
        "outputId": "039c6ae5-ef52-40ae-a1ea-ca714cd7ee86"
      },
      "source": [
        "#checking that two last conv layer building blocks are trainable\n",
        "print(\"Total trainable weights: {}\".format(len(model.trainable_weights)))\n",
        "model.trainable_weights"
      ],
      "execution_count": null,
      "outputs": [
        {
          "output_type": "stream",
          "text": [
            "Total trainable weights: 12\n"
          ],
          "name": "stdout"
        },
        {
          "output_type": "execute_result",
          "data": {
            "text/plain": [
              "[<tf.Variable 'conv1d_7/kernel:0' shape=(1, 128, 256) dtype=float32, numpy=\n",
              " array([[[-0.00829667,  0.00122772,  0.00892232, ..., -0.11241094,\n",
              "          -0.12502827,  0.1272691 ],\n",
              "         [ 0.74347574,  0.0532034 , -0.26989642, ...,  0.17719142,\n",
              "           1.2139083 , -0.18384384],\n",
              "         [-0.26205343, -0.01139252, -0.21264097, ...,  0.00262624,\n",
              "          -0.06714913,  0.00861629],\n",
              "         ...,\n",
              "         [-0.433182  ,  0.08131287, -0.6350561 , ..., -1.2647676 ,\n",
              "           0.87294805, -0.06188029],\n",
              "         [ 0.44650713, -0.02156608, -0.21137567, ...,  0.2610858 ,\n",
              "           0.20350818,  0.06374488],\n",
              "         [ 0.97738487,  0.17035767, -0.1164268 , ..., -0.4523791 ,\n",
              "           0.42900398, -0.38697013]]], dtype=float32)>,\n",
              " <tf.Variable 'conv1d_7/bias:0' shape=(256,) dtype=float32, numpy=\n",
              " array([-0.00000075,  0.0000522 , -0.00012957, -0.00018636,  0.00004996,\n",
              "         0.00001342,  0.00016799,  0.00005128, -0.0000065 ,  0.00002377,\n",
              "         0.00007066, -0.00009471,  0.00033862, -0.00007244, -0.00008299,\n",
              "         0.00001126,  0.00000241, -0.00006592,  0.00000988,  0.00000106,\n",
              "        -0.00005157,  0.00000165,  0.00008025, -0.00016964,  0.00002132,\n",
              "         0.00000843,  0.00001163,  0.00002321, -0.00008976,  0.00005754,\n",
              "        -0.00000875,  0.00001495,  0.00013396,  0.00000846, -0.00001538,\n",
              "         0.00002363, -0.00008585, -0.00006499,  0.00006451, -0.00000648,\n",
              "         0.00001905, -0.00022163,  0.00003864, -0.0001215 , -0.00005453,\n",
              "        -0.00005891,  0.00005196, -0.00004306,  0.00000582,  0.00001095,\n",
              "         0.00003414, -0.00011982,  0.00017031,  0.00008315, -0.00002005,\n",
              "         0.0000391 ,  0.00002302, -0.00008318, -0.00014027, -0.00020878,\n",
              "         0.00000903,  0.00014013, -0.00004621,  0.00007109, -0.00010518,\n",
              "         0.00003004, -0.00002755,  0.0000898 , -0.00006062,  0.00007312,\n",
              "         0.00003792,  0.00010966, -0.0000675 ,  0.00002492,  0.00003183,\n",
              "         0.00006165, -0.00008065,  0.00013557, -0.00006249, -0.00005939,\n",
              "         0.00004766, -0.00009602,  0.00005231,  0.0001583 ,  0.00004745,\n",
              "         0.00001647,  0.00013799,  0.0004041 ,  0.00007031,  0.00006974,\n",
              "         0.00014662,  0.00006348,  0.00008481,  0.00004993,  0.00007246,\n",
              "         0.00013203,  0.00006531, -0.00001312, -0.00003659, -0.00001144,\n",
              "        -0.00000973, -0.00009163, -0.00012221, -0.00003012, -0.00010279,\n",
              "         0.0001914 ,  0.00026632,  0.00005288,  0.0000324 ,  0.00042797,\n",
              "        -0.00003154,  0.00000918,  0.00002017, -0.00007591, -0.0003352 ,\n",
              "         0.00005823,  0.0000664 , -0.00001903, -0.00004446,  0.00007519,\n",
              "        -0.00001453, -0.00000266,  0.00001628, -0.00002143,  0.0001918 ,\n",
              "        -0.00003842, -0.00006884, -0.00003933,  0.00015777,  0.0001047 ,\n",
              "         0.00005683,  0.0000625 ,  0.00007831, -0.0000749 , -0.0000078 ,\n",
              "        -0.0000007 , -0.00001305, -0.0005131 ,  0.00017629,  0.00005045,\n",
              "         0.00004642,  0.0000772 ,  0.00084675, -0.00003488, -0.00011717,\n",
              "        -0.00008136,  0.00001835,  0.00025032, -0.00000009,  0.00000233,\n",
              "        -0.00013196, -0.00003469, -0.0001392 , -0.00004966, -0.00004383,\n",
              "        -0.00008342, -0.00001376, -0.00000797, -0.00016902,  0.00006974,\n",
              "        -0.00000649, -0.00004448,  0.00005533, -0.00005389,  0.00004572,\n",
              "        -0.00002427, -0.00004947, -0.00008421,  0.000025  , -0.00014691,\n",
              "        -0.00012472,  0.0001703 ,  0.00001348, -0.0000656 , -0.00000535,\n",
              "        -0.00023983, -0.00000034, -0.00001058,  0.00006766,  0.00003646,\n",
              "        -0.00001944,  0.0000588 , -0.00010312,  0.00036331,  0.00006014,\n",
              "         0.00004875,  0.00061459, -0.00010428,  0.00018077,  0.00004374,\n",
              "         0.00004198,  0.00001021, -0.00006178,  0.00015372,  0.00006497,\n",
              "         0.00004195,  0.00011379, -0.00002977,  0.00006971,  0.00048561,\n",
              "        -0.00004561, -0.00007545, -0.00001039, -0.00004418,  0.00003985,\n",
              "        -0.00005412,  0.00015834,  0.0000447 ,  0.00004732, -0.00000598,\n",
              "         0.00011663,  0.00001661,  0.00010257,  0.00004696,  0.00018568,\n",
              "        -0.00004399, -0.00001985,  0.00000646, -0.00032332, -0.00000813,\n",
              "         0.00001773,  0.00001363,  0.00033115,  0.00015476,  0.00025684,\n",
              "         0.000048  , -0.00010848, -0.0004292 , -0.00004974, -0.00003443,\n",
              "         0.00006012, -0.00007376, -0.00000054,  0.00015288,  0.00012045,\n",
              "        -0.00010847,  0.00015826, -0.00018268,  0.00003881, -0.00005569,\n",
              "         0.00008425,  0.00007023,  0.00005925,  0.00004666, -0.00013627,\n",
              "        -0.00006592,  0.00007061, -0.00006257,  0.00000984,  0.00009818,\n",
              "        -0.0001283 , -0.00011833, -0.00009397,  0.00005269,  0.00008352,\n",
              "         0.00019264], dtype=float32)>,\n",
              " <tf.Variable 'batch_normalization_12/gamma:0' shape=(256,) dtype=float32, numpy=\n",
              " array([-0.01427969,  0.00145966, -0.02932141,  0.11853505,  2.5073116 ,\n",
              "         1.9148046 , -0.14814362,  0.00403166,  3.3390248 ,  0.0942367 ,\n",
              "         0.0177442 ,  0.1471897 ,  5.6940084 ,  0.22384623,  0.05996523,\n",
              "         0.03527982, -0.01654669,  0.05734299,  0.11846221,  0.37733883,\n",
              "         0.19605942,  1.4041356 , -0.07570513,  0.03073887,  0.24839222,\n",
              "         0.05472161,  0.23136462,  0.10679539,  0.04459419,  0.06009795,\n",
              "        -0.39965883,  0.04610051,  3.34847   ,  0.07711033,  0.2013737 ,\n",
              "         8.513998  ,  0.1666026 ,  0.03314522,  0.2851714 ,  0.00003601,\n",
              "        -0.05055242,  0.18509676,  0.19986145, -0.5113103 ,  0.17442201,\n",
              "         3.6051176 , -0.01047038,  0.25272524, -0.03783033,  0.03514558,\n",
              "         0.02788508,  0.18415445,  6.096341  ,  0.16024745,  0.16444996,\n",
              "         0.1281996 ,  0.04434554, -0.89931065, -0.08756626,  4.493083  ,\n",
              "         0.06461313, -0.25799036, -0.04371733,  0.16994873, -0.03624798,\n",
              "         0.12708372,  0.13202864,  0.12856679,  0.0304815 ,  0.13236733,\n",
              "        -0.0339656 , -0.14499378, -0.24748665,  0.06819467, -0.07812168,\n",
              "        -0.01719106, -0.06796808,  3.8197668 , -0.01134663, -0.00162925,\n",
              "         0.00740385,  0.07571919, -0.02864929,  2.7684104 , -0.02641964,\n",
              "         0.28716585,  0.15548989,  0.60443074,  3.5943422 , -0.03288711,\n",
              "         0.01706912,  3.0559313 ,  0.12590948,  0.07692631,  0.23792137,\n",
              "        -0.01091082,  0.34507096,  0.41961676,  0.18472904, -0.06124332,\n",
              "         0.8430038 ,  0.01417471,  0.09979984,  0.16745114,  0.2967341 ,\n",
              "         0.07515989,  0.0896275 ,  0.16184013,  0.03383105,  6.355364  ,\n",
              "         5.0703516 , -0.0032343 ,  0.19857484, -0.02241338,  5.9121127 ,\n",
              "         0.32227525, -0.03023522,  0.25627065,  0.2126901 , -0.08649141,\n",
              "         0.666078  ,  0.05362515,  0.16253375, -0.06290429,  0.08536225,\n",
              "         0.26031178,  0.07391696,  3.0066144 ,  0.52529985,  0.12102179,\n",
              "         0.13180803,  0.02582528,  0.445946  ,  0.26802686,  0.03182956,\n",
              "         0.0413155 ,  0.19549128,  6.0335436 ,  0.13537832,  0.17605644,\n",
              "         0.02997425,  2.9492464 ,  9.319906  ,  4.11937   ,  0.06820323,\n",
              "         6.0775304 , -0.10534527, -0.04064683,  0.36378816,  0.11708226,\n",
              "         0.00466992,  0.5308188 ,  6.284566  ,  5.636136  ,  0.04452455,\n",
              "         0.23083182,  0.53765935,  0.07202514,  0.03309998,  0.11130946,\n",
              "         0.02345067,  0.19537362,  0.44980553, -0.02944361,  0.12757884,\n",
              "         0.22580603, -0.0483769 , -0.15477252, -1.0427971 ,  0.00209219,\n",
              "         0.03897492,  3.979344  ,  0.05674816,  0.12492978,  0.15390518,\n",
              "         0.08965056, -0.01901542,  0.3887464 , -0.064391  ,  0.02233183,\n",
              "        -0.00899279,  0.21935283,  0.23268323,  8.009026  ,  0.5548828 ,\n",
              "        -0.00788464,  6.075284  ,  0.25181845,  0.09956297,  0.00482791,\n",
              "         0.26241788,  0.18692055,  2.2990894 ,  0.11058836,  0.05946119,\n",
              "         0.03773881,  0.08668002, -0.36998323,  0.23045562,  0.99196035,\n",
              "        -0.01144416, -0.04047222,  0.0280592 ,  0.13978533,  0.10093811,\n",
              "         0.13687313,  0.15540105,  0.23601519, -0.17411013,  0.04057382,\n",
              "        -0.00006817, -0.05218854,  0.1453728 , -0.06052943,  6.292103  ,\n",
              "         0.19773783,  0.00642484,  0.31842685,  0.03532121,  1.3567077 ,\n",
              "         0.05271709,  0.11177035,  7.765191  , -0.05288797,  0.06625093,\n",
              "         7.1442432 , -0.05187501,  6.4769096 ,  0.0050703 ,  0.03744375,\n",
              "         0.25150296,  0.17898135,  0.04206271, -0.13001637,  0.0908059 ,\n",
              "         0.13627829,  0.07424338,  0.09469663,  0.29703748, -0.00367493,\n",
              "         3.8440406 ,  0.0479362 ,  0.32717058,  0.23294991, -0.03610828,\n",
              "         6.955067  ,  7.365687  , -0.01804864,  0.01685996,  0.03077505,\n",
              "         0.02498501, -0.5372911 ,  6.259572  ,  4.629976  ,  0.05767573,\n",
              "         0.16203576], dtype=float32)>,\n",
              " <tf.Variable 'batch_normalization_12/beta:0' shape=(256,) dtype=float32, numpy=\n",
              " array([-0.07359484, -0.956794  , -1.1303502 , -1.5090628 ,  0.8847713 ,\n",
              "         0.3646631 , -0.76343286, -1.5694994 , -0.11526252, -0.5554177 ,\n",
              "        -0.2807103 , -2.1162467 ,  1.671116  , -0.6864557 , -0.75356126,\n",
              "        -0.4909278 , -0.17271975, -1.0355328 , -0.5660045 , -1.396788  ,\n",
              "        -0.9585323 ,  0.67884076, -0.9880265 , -1.1492594 , -0.64556867,\n",
              "        -0.6195629 , -0.9400352 , -0.59957516, -0.9329164 , -1.1258278 ,\n",
              "         2.045983  , -0.42941085,  1.3756968 , -0.6852508 , -1.0341874 ,\n",
              "         1.4732584 , -3.1914444 , -0.78863263, -0.95429593,  0.4213174 ,\n",
              "        -0.411619  , -0.9273841 , -0.9600454 ,  1.7060251 , -1.759107  ,\n",
              "         1.2800425 , -0.6138127 , -1.0250437 , -0.59613115, -0.7497676 ,\n",
              "        -1.1496675 , -1.5477093 ,  1.6315949 , -0.75952   , -2.2932558 ,\n",
              "        -0.9621756 , -0.962101  ,  1.5715326 , -0.43509334,  1.4171917 ,\n",
              "        -0.5546959 ,  1.5358653 , -0.8010578 , -0.6830513 , -0.97867733,\n",
              "        -0.65720856,  2.053294  , -0.71570414, -0.6312323 , -0.52412504,\n",
              "        -0.19142671,  1.3410479 ,  1.935563  , -0.8500306 , -0.65275204,\n",
              "        -0.49638444, -1.0605879 ,  1.1768312 , -0.12576354, -1.7134799 ,\n",
              "        -0.6130624 , -0.78843534, -0.62747455,  0.77869093, -0.293258  ,\n",
              "        -2.0356603 , -0.73812854, -1.6013428 ,  0.20749165, -0.6283793 ,\n",
              "        -0.45257473,  1.0390457 , -0.7508517 , -0.43657807, -1.2204211 ,\n",
              "        -0.31815052, -1.1685086 ,  0.29612008, -1.2347839 , -0.41169205,\n",
              "        -2.2337077 , -0.736511  , -1.37752   , -0.8711275 , -0.4217967 ,\n",
              "         0.87764394, -0.7940243 , -1.0187489 , -1.0528334 ,  1.5727774 ,\n",
              "         1.4004651 ,  0.76200235, -0.7460496 , -0.96291643,  2.1050813 ,\n",
              "        -1.2167672 , -1.0621595 , -1.8461697 ,  0.9792071 , -0.83570206,\n",
              "         1.7787288 , -0.6749124 , -0.7351491 , -0.6288384 , -0.4540052 ,\n",
              "        -0.80066216, -1.1276126 ,  1.1565988 , -1.6773033 , -0.2787561 ,\n",
              "         0.6094014 , -0.72219425, -1.7544614 , -2.479271  , -0.8015578 ,\n",
              "        -0.8467525 , -2.269689  ,  1.5394815 , -0.65760773, -0.7604025 ,\n",
              "        -0.45767152, -0.5837524 ,  1.7659458 ,  1.6002393 , -1.2034901 ,\n",
              "         1.2469492 , -0.7755375 , -2.0254097 ,  0.38875344, -0.62507355,\n",
              "        -0.5460585 , -1.9176908 ,  2.560522  , -0.6125753 , -1.0727472 ,\n",
              "        -0.91516876, -1.754744  , -0.39324114, -0.7891445 , -0.53107333,\n",
              "        -0.6971308 , -1.2374445 , -1.3609592 , -0.23045544, -0.78180224,\n",
              "        -0.67736274, -0.9438812 , -0.98453856,  2.42746   , -0.5247667 ,\n",
              "        -2.5508235 ,  1.2731279 , -0.51174253, -0.7521348 , -1.2279729 ,\n",
              "        -0.46823496, -0.3380747 , -0.7459695 ,  3.4998422 , -1.1984489 ,\n",
              "        -0.25264657, -1.445699  , -0.7558163 ,  1.7453164 ,  0.7332748 ,\n",
              "        -0.78887975,  1.5888776 , -0.9491572 , -1.2142205 , -0.32570347,\n",
              "        -1.6146247 , -1.3639631 ,  3.2182856 , -0.69677633, -1.5747455 ,\n",
              "        -1.1661323 , -1.4088478 ,  1.4798927 , -1.1768523 ,  1.0518165 ,\n",
              "        -1.1900783 , -1.2464522 , -1.2122669 , -0.6562298 , -0.709867  ,\n",
              "        -2.245738  , -0.7349253 , -1.0208398 ,  2.2483459 , -0.61178714,\n",
              "         0.8039456 , -0.729486  , -0.66903955, -0.6588378 ,  1.5921154 ,\n",
              "        -0.69917667, -0.07653898,  0.92843544,  1.5689015 , -0.06399598,\n",
              "        -1.9092745 , -1.7931186 ,  1.542253  , -0.88810354, -0.5522469 ,\n",
              "        -0.46423542, -1.09986   ,  1.6986761 , -1.011171  , -1.120938  ,\n",
              "        -0.9112292 , -1.5669473 , -0.5101792 , -0.9277548 , -0.77935696,\n",
              "        -1.5568502 , -0.89852357, -0.9374774 , -0.8766919 , -0.83033574,\n",
              "        -0.9077976 , -1.0590354 , -1.1677159 , -0.9332399 , -0.6479696 ,\n",
              "         1.8159733 ,  1.6601748 , -0.927506  , -0.57349133, -0.16957362,\n",
              "        -0.6201927 ,  2.4110227 ,  1.5901985 ,  0.05422613, -1.855276  ,\n",
              "        -0.76961744], dtype=float32)>,\n",
              " <tf.Variable 'conv1d_8/kernel:0' shape=(1, 256, 256) dtype=float32, numpy=\n",
              " array([[[-0.2163336 ,  0.32994896, -0.06416337, ..., -0.10114545,\n",
              "           0.10657775,  0.0564841 ],\n",
              "         [ 0.10621525, -0.10683414,  0.09596448, ..., -0.07519463,\n",
              "          -0.09287483, -0.00502655],\n",
              "         [-0.17293388, -0.07716591, -0.18126254, ..., -0.05993526,\n",
              "          -0.08409885, -0.08546486],\n",
              "         ...,\n",
              "         [-0.20267338,  0.33105427, -0.09385306, ..., -0.06742871,\n",
              "          -0.18593387,  0.03153765],\n",
              "         [-0.19446957,  0.21130654, -0.01061373, ..., -0.03226076,\n",
              "          -0.11021708,  0.04298126],\n",
              "         [-0.22042936,  0.38055873,  0.00972364, ...,  0.06771144,\n",
              "           0.00681512, -0.02355496]]], dtype=float32)>,\n",
              " <tf.Variable 'conv1d_8/bias:0' shape=(256,) dtype=float32, numpy=\n",
              " array([ 0.00004413, -0.00002596, -0.00005068, -0.00001708, -0.0000334 ,\n",
              "         0.00003538,  0.00002551,  0.00003882,  0.00001911,  0.00004448,\n",
              "         0.00002246, -0.00000991,  0.00003445, -0.00002064, -0.00000991,\n",
              "        -0.00006067, -0.00000706, -0.00000943,  0.00007838, -0.00007328,\n",
              "         0.00003731, -0.00001196, -0.00002096, -0.00000433,  0.00002272,\n",
              "         0.00009426, -0.00002869,  0.00007405,  0.00000241, -0.00005176,\n",
              "        -0.00003428,  0.00000111,  0.00003647, -0.00002055,  0.00001261,\n",
              "        -0.00004273,  0.00012374,  0.0000005 ,  0.00001956, -0.0001311 ,\n",
              "         0.00002834,  0.00002578,  0.00002045, -0.00007828,  0.00000121,\n",
              "        -0.00001546, -0.00008719,  0.00002027,  0.00004767,  0.00004214,\n",
              "         0.00010114,  0.00005089,  0.00003696,  0.00009991,  0.0000692 ,\n",
              "         0.0000443 ,  0.00000725,  0.00001482,  0.00002455, -0.00003819,\n",
              "        -0.00001186, -0.00001161, -0.0000375 ,  0.00002136, -0.00001811,\n",
              "         0.00001756,  0.00000689,  0.00004473, -0.00000452, -0.00003632,\n",
              "        -0.00005389, -0.00002791,  0.00061621,  0.00000043, -0.00002167,\n",
              "         0.00004797,  0.00004396, -0.00009459, -0.00000741, -0.00001352,\n",
              "         0.00000162, -0.00002043,  0.00001524, -0.00008369,  0.00007683,\n",
              "        -0.00001221,  0.00002238, -0.00006715, -0.00003013, -0.00005452,\n",
              "        -0.00000329,  0.00002085,  0.00001219, -0.00001592, -0.00002007,\n",
              "        -0.00005372, -0.00002021, -0.00000238,  0.00000754,  0.00000666,\n",
              "         0.00041536, -0.00015762,  0.00002729,  0.0000686 ,  0.00007975,\n",
              "        -0.00004096,  0.00004972, -0.00001271,  0.00005198, -0.00002521,\n",
              "         0.00003472,  0.00008008, -0.00000547,  0.00093848, -0.00004599,\n",
              "        -0.00001547,  0.00007604,  0.00002499, -0.00003492,  0.00012323,\n",
              "         0.00000276,  0.00009212,  0.00003618,  0.00000794, -0.00000086,\n",
              "         0.00002439, -0.00008257, -0.00000958, -0.00003684,  0.0000127 ,\n",
              "         0.000014  , -0.00005593,  0.00000344, -0.00020063,  0.00000219,\n",
              "        -0.00006166, -0.00001413, -0.00000652,  0.00002846,  0.00002476,\n",
              "         0.00000274,  0.00000762,  0.00015905, -0.0000579 , -0.00003599,\n",
              "        -0.00001369,  0.0000819 ,  0.000005  ,  0.00005302,  0.00003859,\n",
              "        -0.00009303,  0.00001605,  0.00007466,  0.00000117, -0.00007537,\n",
              "        -0.00003408,  0.00007966, -0.00006397,  0.00003211,  0.000012  ,\n",
              "        -0.0000176 , -0.00000032, -0.00007078,  0.00001861, -0.00001596,\n",
              "         0.00000724, -0.00000306, -0.00004872, -0.00005084,  0.00001971,\n",
              "        -0.00000537, -0.00008473, -0.00005944,  0.00000254, -0.00003226,\n",
              "         0.00003014, -0.00052842, -0.00003749, -0.00007677, -0.00000854,\n",
              "         0.000041  , -0.00001065,  0.00001657, -0.00004031, -0.00004613,\n",
              "         0.00000789, -0.00001577, -0.00000356, -0.00001207, -0.00002363,\n",
              "        -0.00001016, -0.00002575, -0.00000073,  0.00000385, -0.00000279,\n",
              "         0.00008608,  0.00000491, -0.00013332, -0.00013846,  0.00001172,\n",
              "         0.000012  ,  0.00001301,  0.00013278,  0.00003782,  0.00015286,\n",
              "        -0.00002394, -0.00006346, -0.00005377,  0.00000702,  0.0000106 ,\n",
              "        -0.00005194, -0.00001879, -0.00005543,  0.00011235, -0.00010643,\n",
              "        -0.00001268,  0.00000585, -0.00001248,  0.00001109,  0.0000051 ,\n",
              "        -0.00004704, -0.00003091, -0.00005119,  0.00003275, -0.00003279,\n",
              "        -0.00000048, -0.00004725,  0.00001521,  0.00008578,  0.00010763,\n",
              "        -0.00009961, -0.00001307, -0.00001756, -0.00006745, -0.00000373,\n",
              "        -0.00011409, -0.00004636,  0.00000411,  0.00001698, -0.0000207 ,\n",
              "        -0.00001293, -0.00002733,  0.00003931,  0.00016861,  0.00000156,\n",
              "         0.00001967, -0.00003896,  0.00004604,  0.0000216 , -0.00012323,\n",
              "        -0.00006794, -0.0000365 ,  0.00000313, -0.00007458,  0.0000321 ,\n",
              "        -0.00013857], dtype=float32)>,\n",
              " <tf.Variable 'batch_normalization_13/gamma:0' shape=(256,) dtype=float32, numpy=\n",
              " array([ 0.09805355, -0.00864223,  0.06252937,  0.01116106, -0.15425442,\n",
              "         0.16512647,  0.08149876, -0.16603492,  0.03246897,  0.04381979,\n",
              "         0.27818522, -0.00440337,  0.05342301,  0.02526828, -0.00626236,\n",
              "         0.12506296,  0.12492219,  0.13939257, -0.02386174,  0.02500816,\n",
              "        -0.0644391 , -0.02929495,  0.18877892,  0.12195724,  0.08437639,\n",
              "         0.07736193,  0.08659451, -0.02164086, -0.13340034,  0.01345147,\n",
              "         0.01849672,  0.162186  , -0.0152164 ,  0.04265974,  0.09464139,\n",
              "         0.05907293,  0.0119877 ,  0.13911015, -0.15528914,  0.15616514,\n",
              "         0.11210633,  0.0406051 ,  0.0286374 , -0.23153633,  0.06568331,\n",
              "         0.18790312,  0.14549814, -0.02915224, -0.1195121 ,  0.0708567 ,\n",
              "         0.03171231, -0.05268615,  0.11747839, -0.07498129,  0.19239339,\n",
              "        -0.05249372,  0.03071346,  0.00341494,  0.108684  ,  0.22249204,\n",
              "         0.10597087,  0.02236406,  0.1183618 , -0.02807571, -0.01946733,\n",
              "        -0.04573748,  0.22242084,  0.0708141 ,  0.12177213,  0.25509274,\n",
              "        -0.11862216, -0.10640138,  0.36557204,  0.11213364, -0.0882441 ,\n",
              "         0.04523863,  0.2633348 ,  0.18075764,  0.0984273 , -0.06521864,\n",
              "        -0.00724375,  0.02702973, -0.020647  , -0.03017572,  0.16095313,\n",
              "         0.20545854,  0.07215343, -0.05392692,  0.04648996,  0.09403073,\n",
              "        -0.05185315,  0.12034651,  0.16216938,  0.06245997, -0.02919475,\n",
              "        -0.02244524,  0.1767938 , -0.03047919,  0.14437838,  0.04913836,\n",
              "         2.6529965 , -0.0661258 , -0.06126467,  0.18864377,  0.24723226,\n",
              "        -0.06150007, -0.10604931,  0.04485562,  0.05283401, -0.01813516,\n",
              "        -0.01259816, -0.03653162,  0.10316902,  0.00173889,  0.06208323,\n",
              "        -0.08108291, -0.10850464, -0.00831346,  0.00091244,  0.1981393 ,\n",
              "         0.2479041 , -0.00923854, -0.06994103,  0.04429336, -0.03364874,\n",
              "         0.27516532, -0.10704079, -0.08784503, -0.13438216,  0.0623685 ,\n",
              "         0.15851195,  0.07722275, -0.0652888 , -0.01810795,  0.07352637,\n",
              "        -0.17579208,  0.00089101, -0.12399245,  0.02563894,  0.0537264 ,\n",
              "         0.22160265,  0.35524067,  0.04563057,  0.04669185,  0.02428703,\n",
              "        -0.11979388,  0.08269867,  0.12788466, -0.00132083, -0.01476993,\n",
              "        -0.13141376,  0.0355818 , -0.19821733, -0.12663257,  0.01356599,\n",
              "        -0.07280194,  0.1320656 ,  0.18321799,  0.3117461 ,  0.0162449 ,\n",
              "         0.14011452, -0.08304114, -0.19025043, -0.05480321,  0.09202932,\n",
              "        -0.18758647,  0.39030772, -0.03300509,  0.2209453 ,  0.03606356,\n",
              "         0.10581532,  0.04189682,  0.02537285,  0.26615727,  0.139666  ,\n",
              "        -0.06471859,  0.13287573,  0.02413202, -0.09174592,  0.11167929,\n",
              "         0.04205282,  0.01167076, -0.07979841,  0.06595473, -0.05658391,\n",
              "         0.02242134,  0.08149964, -0.08028039, -0.07278886, -0.18248844,\n",
              "         0.06309912, -0.00076197,  0.06343257,  0.12139923,  0.14667052,\n",
              "         0.12057442,  0.09288845,  0.09894919,  0.01527786,  0.1020988 ,\n",
              "        -0.15437306,  0.12679063,  0.08397566,  0.04554037,  0.34849963,\n",
              "        -0.02898025, -0.02109378,  0.03830412, -0.05326964,  0.00032061,\n",
              "         0.12595868, -0.05751218, -0.05044934, -0.22851859,  0.11705507,\n",
              "         0.09136654,  0.09203982,  0.15376279,  0.05246336, -0.01565475,\n",
              "         0.08104297, -0.04971702,  0.21202013,  0.1651584 ,  0.03466732,\n",
              "         0.12194317,  0.01523995,  0.02384496,  0.1181975 ,  0.11185714,\n",
              "         0.06268273, -0.03371884, -0.00918215,  0.05171097,  0.03777695,\n",
              "         0.03253992,  0.2602587 ,  0.14154701,  0.10567636,  0.06625874,\n",
              "         0.02120159,  0.19510089,  0.17078583,  0.03700607,  0.04273153,\n",
              "         0.06929255,  0.12894979, -0.0262017 , -0.14253971,  0.22858714,\n",
              "         0.20568615,  0.06284525,  0.12469817,  0.09790739,  0.08803359,\n",
              "        -0.03008381], dtype=float32)>,\n",
              " <tf.Variable 'batch_normalization_13/beta:0' shape=(256,) dtype=float32, numpy=\n",
              " array([-0.6312875 , -0.48920533, -0.6700516 , -0.5681906 , -1.1968522 ,\n",
              "        -0.5439782 , -0.8453647 , -1.0681549 , -0.4815221 , -1.0540925 ,\n",
              "        -0.7004513 , -0.22264767, -0.9193768 , -0.53173727, -1.2164041 ,\n",
              "        -1.1684511 , -0.9491438 , -1.1997676 , -0.8060582 , -0.49214718,\n",
              "        -1.141621  , -1.3927141 , -0.8632283 , -1.0285755 , -0.83883137,\n",
              "        -1.4396241 , -0.90268826, -1.3812871 , -0.8295583 , -0.49568385,\n",
              "        -0.86927813, -0.7879333 , -0.58324564, -1.0212137 , -0.80452687,\n",
              "        -0.94907105, -0.6599166 , -0.6381324 , -1.2230957 , -0.9711547 ,\n",
              "        -0.6148739 , -1.2428756 , -0.35074866, -1.180519  , -0.94963443,\n",
              "        -1.2520344 , -1.0610389 , -0.7799143 , -1.3012565 , -0.843475  ,\n",
              "        -1.0162336 , -0.94448   , -1.0752089 , -1.5157039 , -1.2390895 ,\n",
              "        -0.8450418 , -0.6603697 , -1.3302857 , -0.8577443 , -0.8280544 ,\n",
              "        -0.88217276, -0.9348675 , -1.0288594 , -0.45473385, -1.0840036 ,\n",
              "        -0.8897646 , -0.5763396 , -0.97010165, -1.0681554 , -0.83751696,\n",
              "        -0.99230355, -0.9107083 , -2.911124  , -1.0086833 , -1.0960983 ,\n",
              "        -0.4256516 , -0.9314043 , -1.0754629 , -0.8707153 , -1.0838617 ,\n",
              "        -0.9691167 , -0.3833288 , -0.86687785, -0.92688364, -0.6481824 ,\n",
              "        -1.292308  , -0.5372983 , -0.95308495, -0.67766833, -0.8422157 ,\n",
              "        -0.98950195, -0.9166579 , -1.1244508 , -0.78488714, -0.90399134,\n",
              "        -0.4683021 , -1.2436681 , -0.6987447 , -0.9153001 , -0.78235406,\n",
              "         2.2655623 , -1.0771109 , -1.2930304 , -0.57216537, -0.98550165,\n",
              "        -0.37623832, -0.98813367, -1.3333049 , -0.98527557, -0.60904074,\n",
              "        -0.8925342 , -0.7464066 , -1.0411327 , -1.5458704 , -0.9254752 ,\n",
              "        -1.239906  , -0.96524405, -1.246065  , -1.0524217 , -0.67825425,\n",
              "        -0.7302723 , -0.80535287, -1.238007  , -0.5087745 , -1.2187774 ,\n",
              "        -0.9020532 , -0.8588316 , -0.89467126, -1.0335168 , -0.6570482 ,\n",
              "        -0.78452736, -0.73239255, -0.9630445 , -0.9029802 , -0.775338  ,\n",
              "        -1.4437057 , -0.8980376 , -1.1961948 , -0.28754875, -0.5588736 ,\n",
              "        -0.9060268 , -1.0003521 , -0.79970664, -0.6597335 , -0.25657973,\n",
              "        -1.2677522 , -0.793286  , -0.991649  , -0.82499874, -1.3249732 ,\n",
              "        -0.8175716 , -0.50295836, -1.0908546 , -1.1485306 , -0.48460063,\n",
              "        -0.8105495 , -0.64451355, -0.86101544, -0.8963659 , -0.8977243 ,\n",
              "        -0.88999635, -0.91924286, -0.942436  , -0.72446376, -0.85142535,\n",
              "        -1.025547  , -0.9744379 , -0.96916866, -0.6439312 , -0.84281623,\n",
              "        -0.78486824, -0.98502225, -0.356525  , -0.80248195, -0.8993849 ,\n",
              "        -0.8037724 , -1.1204828 , -0.9233604 , -0.86841404, -1.2073693 ,\n",
              "        -0.8091841 , -0.65558356, -1.0762994 , -0.6662882 , -1.0702916 ,\n",
              "        -0.8290982 , -0.8786687 , -0.9432119 , -1.2209624 , -0.8454605 ,\n",
              "        -0.86177796, -0.51940626, -0.7388672 , -0.7757613 , -0.55327195,\n",
              "        -0.90700763, -0.5160794 , -0.9050457 , -1.1775225 , -1.174499  ,\n",
              "        -0.97886086, -0.8141686 , -0.92639935, -1.4108545 , -0.86308956,\n",
              "        -0.84311914, -1.0136889 , -1.0409342 , -0.8297254 , -1.3620433 ,\n",
              "        -0.8201018 , -0.6723511 , -0.84657675, -0.83804953, -0.7723476 ,\n",
              "        -0.7735721 , -0.7401249 , -0.54358464, -0.574909  , -1.2013273 ,\n",
              "        -0.926941  , -0.75436616, -0.746263  , -1.0153306 , -1.0809929 ,\n",
              "        -0.80446565, -0.49742296, -0.8974406 , -0.8427233 , -0.9740936 ,\n",
              "        -0.65405774, -0.9154449 , -1.2145592 , -0.67783827, -0.7907939 ,\n",
              "        -0.3548598 , -0.73383313, -0.9171906 , -0.76169944, -0.7102561 ,\n",
              "        -0.9266773 , -0.63656914, -0.72615963, -2.0110319 , -0.38609782,\n",
              "        -0.51754385, -0.48441684, -0.73542655, -1.0389922 , -1.1409384 ,\n",
              "        -1.0018909 , -0.75578415, -0.5275534 , -1.0351131 , -0.913912  ,\n",
              "        -0.7664261 ], dtype=float32)>,\n",
              " <tf.Variable 'dense/kernel:0' shape=(3584, 128) dtype=float32, numpy=\n",
              " array([[ 0.00000036,  0.00000085,  0.00000056, ..., -0.00000063,\n",
              "         -0.00000262, -0.00000019],\n",
              "        [ 0.00000037,  0.00000598, -0.00000005, ..., -0.00000192,\n",
              "          0.00000145,  0.00000061],\n",
              "        [-0.00000259, -0.00000174, -0.00000295, ..., -0.00000138,\n",
              "          0.00000077,  0.00000197],\n",
              "        ...,\n",
              "        [-0.00000109, -0.00000029, -0.00000473, ..., -0.0000007 ,\n",
              "          0.00000277,  0.00000133],\n",
              "        [-0.00000102,  0.00000007,  0.00000117, ...,  0.00000079,\n",
              "          0.00000079, -0.00000031],\n",
              "        [ 0.00000065,  0.00000022, -0.00000011, ...,  0.00000266,\n",
              "          0.00000018,  0.00000112]], dtype=float32)>,\n",
              " <tf.Variable 'dense/bias:0' shape=(128,) dtype=float32, numpy=\n",
              " array([-0.11231245, -0.08868715, -0.1250619 , -0.06590564, -0.1253952 ,\n",
              "        -0.12519681, -0.06947563, -0.05623724, -0.11706082, -0.25142193,\n",
              "        -0.3005272 , -0.07723083, -0.17256977, -0.09034231, -0.09837377,\n",
              "        -0.0936527 , -0.08021301, -0.08079989, -0.08180136, -0.09063432,\n",
              "        -0.11940869, -0.08588155, -0.10921361, -0.32948902, -0.09170658,\n",
              "        -0.09452741, -0.14091845, -0.06349941, -0.08916895, -0.11643416,\n",
              "        -0.11827352, -0.07008959, -0.08849837, -0.10961903, -0.11488603,\n",
              "        -0.12392298, -0.13226686, -0.12814507, -0.08123904, -0.1079712 ,\n",
              "        -0.08660974, -0.14810589, -0.11929169, -0.18173598, -0.11811341,\n",
              "        -0.07186686, -0.2591946 , -0.11203458, -0.07454265, -0.17029743,\n",
              "        -0.10039487, -0.12101949, -0.08452992, -0.09394204, -0.09496162,\n",
              "        -0.08903358, -0.08836868, -0.14325896, -0.34740323, -0.08154951,\n",
              "        -0.11851631, -0.13057199, -0.13999242, -0.11305469, -0.12076949,\n",
              "        -0.1039583 , -0.11177155, -0.08869888, -0.16654485, -0.09851681,\n",
              "        -0.1603723 , -0.12089394, -0.10758516, -0.07203615, -0.11492252,\n",
              "        -0.11275905,  1.2045971 , -0.05868866, -0.09670188, -0.11382791,\n",
              "        -0.152426  , -0.09301707, -0.08799682, -0.20050906, -0.09901654,\n",
              "        -0.19396526, -0.07484163, -0.07986271, -0.10455303, -0.10188019,\n",
              "        -0.0574754 , -0.09252536, -0.1005941 , -0.0868443 , -0.1329015 ,\n",
              "        -0.12666307, -0.39076784, -0.11391942, -0.12318845, -0.10456949,\n",
              "        -0.12296314, -0.08788419, -0.15926065, -0.2402795 , -0.30337977,\n",
              "        -0.11510696, -0.10381385, -0.08750702, -0.10240861, -0.08743142,\n",
              "        -0.07033083, -0.06549387, -0.08425357, -0.14858666, -0.1292486 ,\n",
              "        -0.16886626, -0.07208767, -0.2297814 , -0.09353061, -0.08238543,\n",
              "        -0.12976024, -0.08330053, -0.08037248, -0.0782723 , -0.07480554,\n",
              "        -0.09632646, -0.1278576 , -0.1193888 ], dtype=float32)>,\n",
              " <tf.Variable 'dense_2/kernel:0' shape=(128, 4) dtype=float32, numpy=\n",
              " array([[ 0.103423  , -0.19951274,  0.07304609, -0.19923683],\n",
              "        [-0.21266471,  0.04135373, -0.19028035,  0.04656264],\n",
              "        [-0.09606324,  0.1882278 ,  0.038865  , -0.0025505 ],\n",
              "        [-0.11218171,  0.11975721,  0.10304809, -0.06418335],\n",
              "        [ 0.12329748, -0.03067113, -0.14561951, -0.08099307],\n",
              "        [ 0.14544797, -0.20282535, -0.1256845 , -0.19813944],\n",
              "        [ 0.19454202,  0.14479169, -0.04523091, -0.01304807],\n",
              "        [-0.1221089 ,  0.08112183,  0.10493299,  0.01885623],\n",
              "        [ 0.13840613, -0.19555616, -0.16348982,  0.08216316],\n",
              "        [-0.07442032, -0.03911889,  0.1387921 ,  0.17226782],\n",
              "        [-0.09879094,  0.17787185,  0.03211087, -0.01367766],\n",
              "        [ 0.175596  ,  0.07315478,  0.05093542,  0.05554879],\n",
              "        [ 0.1419914 ,  0.05012614,  0.16635007,  0.09057117],\n",
              "        [-0.04328875, -0.0151971 , -0.01960659,  0.10847464],\n",
              "        [-0.09063047, -0.02094425, -0.1712263 ,  0.16780734],\n",
              "        [ 0.10667437, -0.11797003, -0.07338692, -0.00184283],\n",
              "        [-0.17674486, -0.01949491,  0.20248762,  0.05559501],\n",
              "        [ 0.18122673, -0.1425286 ,  0.08058235,  0.09787211],\n",
              "        [ 0.09928551, -0.0015536 , -0.17309907,  0.13690943],\n",
              "        [ 0.19256145, -0.11307328, -0.00585064,  0.01105325],\n",
              "        [ 0.09585589, -0.05349085, -0.06488706, -0.04869936],\n",
              "        [ 0.19112206,  0.15836838, -0.03486383, -0.09871057],\n",
              "        [ 0.04054591,  0.03384089,  0.19716963,  0.01129597],\n",
              "        [ 0.14760813, -0.18935832, -0.16098359, -0.16743746],\n",
              "        [-0.13852888, -0.06542556,  0.15524447, -0.02281103],\n",
              "        [ 0.13488847,  0.03525588, -0.03958195, -0.03093845],\n",
              "        [-0.20066442, -0.10102384, -0.17294703, -0.11717707],\n",
              "        [ 0.16015059, -0.1967755 , -0.05362988, -0.14926705],\n",
              "        [-0.08388875, -0.1437773 , -0.01398753, -0.01372844],\n",
              "        [ 0.031951  , -0.0322506 , -0.09403194,  0.09808409],\n",
              "        [-0.20143685, -0.20393397,  0.09210062,  0.16627678],\n",
              "        [ 0.05061102, -0.11707765,  0.01208451, -0.18477891],\n",
              "        [ 0.20329633,  0.15105072,  0.10324252, -0.10087196],\n",
              "        [-0.01902802,  0.17066583,  0.18640018, -0.12951137],\n",
              "        [-0.10787398,  0.04168576, -0.06274499, -0.04946086],\n",
              "        [-0.02712643, -0.1268346 , -0.1583294 ,  0.10987896],\n",
              "        [-0.0310484 , -0.00279565,  0.0152366 ,  0.00105602],\n",
              "        [ 0.05283326, -0.02024208, -0.18911104, -0.21183118],\n",
              "        [ 0.03944385, -0.19707748, -0.21084607,  0.04146129],\n",
              "        [-0.03521369,  0.12600923,  0.20808467, -0.00217348],\n",
              "        [-0.16780202, -0.11389939, -0.00539845, -0.06110564],\n",
              "        [ 0.05366549,  0.10922953,  0.19417915, -0.06225   ],\n",
              "        [-0.08759201, -0.1167107 ,  0.0679363 ,  0.04281506],\n",
              "        [-0.08719134,  0.19453624,  0.00215738, -0.20499049],\n",
              "        [-0.02663159,  0.05542868,  0.06481147, -0.1931454 ],\n",
              "        [-0.09624629,  0.14161545, -0.13068166, -0.10884587],\n",
              "        [-0.21066064, -0.03460677, -0.0235648 , -0.2127557 ],\n",
              "        [-0.10794403,  0.11952573, -0.04365815, -0.12949368],\n",
              "        [-0.00672357,  0.10891768, -0.17859618,  0.07804599],\n",
              "        [ 0.1806953 ,  0.14310607, -0.10418111,  0.18946996],\n",
              "        [ 0.20758751, -0.133217  ,  0.15946019,  0.0196162 ],\n",
              "        [ 0.17833859, -0.13716276,  0.04084074, -0.07996267],\n",
              "        [ 0.03687719,  0.00300503, -0.17942184, -0.01684794],\n",
              "        [ 0.17504844, -0.16852717, -0.1801698 , -0.17775539],\n",
              "        [ 0.09759524, -0.14928585,  0.16918427,  0.10691407],\n",
              "        [ 0.18286854, -0.08454615,  0.03781715, -0.16355056],\n",
              "        [ 0.02546172, -0.01676829, -0.07028145, -0.19532183],\n",
              "        [ 0.11028913, -0.13090032,  0.13950196, -0.2042688 ],\n",
              "        [-0.16757256,  0.0975073 , -0.04309179,  0.20111388],\n",
              "        [ 0.11983502, -0.04669662,  0.21301284,  0.10597977],\n",
              "        [ 0.00995159, -0.21191454,  0.12448627, -0.15308918],\n",
              "        [ 0.19815585, -0.07050948, -0.03992659,  0.18923664],\n",
              "        [ 0.00351898, -0.11868233, -0.11273658, -0.05254112],\n",
              "        [ 0.03403731, -0.11860802, -0.13820866, -0.00105616],\n",
              "        [-0.20379287,  0.04375345, -0.18798915, -0.20646855],\n",
              "        [-0.13852534,  0.03754988, -0.102676  ,  0.03590438],\n",
              "        [-0.21307318,  0.12797433, -0.1396026 ,  0.17169064],\n",
              "        [-0.02012938, -0.12055937,  0.03450383,  0.116344  ],\n",
              "        [-0.00234585,  0.10052505,  0.0429332 , -0.04911456],\n",
              "        [-0.20341447,  0.03055589, -0.16255097, -0.0728444 ],\n",
              "        [ 0.0063982 , -0.1842677 , -0.17682345,  0.11213768],\n",
              "        [ 0.17523956, -0.06354024,  0.07536104, -0.13864347],\n",
              "        [ 0.21268392,  0.14860186,  0.13787326,  0.06662908],\n",
              "        [-0.11470165, -0.15300465, -0.08321525, -0.15697226],\n",
              "        [ 0.09359398,  0.05537379, -0.19997261,  0.1988413 ],\n",
              "        [-0.06821837,  0.00009938, -0.1464074 , -0.13009861],\n",
              "        [ 0.13350421,  0.11180356,  0.18546712, -0.07866943],\n",
              "        [ 0.14754012, -0.04158323, -0.05319434,  0.19318762],\n",
              "        [-0.08999494,  0.03774157,  0.13099402,  0.02809623],\n",
              "        [-0.2075294 , -0.09425229, -0.06232335, -0.09152348],\n",
              "        [-0.03085391,  0.02248789, -0.06194983, -0.09077758],\n",
              "        [ 0.10020372,  0.1732057 , -0.00812869, -0.18060167],\n",
              "        [ 0.00453219, -0.1092363 , -0.09856621, -0.12675862],\n",
              "        [ 0.04201579, -0.05805761,  0.04063478, -0.08549172],\n",
              "        [ 0.15491864,  0.01932345, -0.01092389,  0.07939148],\n",
              "        [-0.13205835, -0.02259062,  0.05076182, -0.1249011 ],\n",
              "        [-0.18527822, -0.08446325, -0.12779821, -0.16857652],\n",
              "        [ 0.01460202, -0.06687124, -0.05867191, -0.20282173],\n",
              "        [-0.1223324 ,  0.14219758, -0.1384469 ,  0.12996945],\n",
              "        [ 0.0864726 , -0.10402038, -0.03345886,  0.13546073],\n",
              "        [-0.19437698,  0.02556626,  0.07088381, -0.21112967],\n",
              "        [ 0.01323803, -0.14747566, -0.19648983,  0.08077389],\n",
              "        [-0.1611182 ,  0.20450872, -0.02991106, -0.15189852],\n",
              "        [ 0.05975461,  0.08561179,  0.09914747, -0.01332185],\n",
              "        [-0.08524798,  0.00299019, -0.18911572,  0.19147152],\n",
              "        [ 0.05022633,  0.02412958, -0.03845194, -0.04916431],\n",
              "        [ 0.1287952 , -0.09791837,  0.15197465, -0.16651437],\n",
              "        [-0.2131898 ,  0.05519804, -0.07753021,  0.20119387],\n",
              "        [ 0.00948517, -0.12144383,  0.08623552,  0.09839746],\n",
              "        [ 0.061847  , -0.169465  , -0.0644673 ,  0.1374825 ],\n",
              "        [ 0.0043581 , -0.03580856,  0.04210353,  0.0028747 ],\n",
              "        [-0.2099307 , -0.03753681,  0.09473753,  0.18824604],\n",
              "        [-0.14242539, -0.08448088, -0.1129151 ,  0.184854  ],\n",
              "        [-0.03874101, -0.14254108, -0.07117124,  0.20843709],\n",
              "        [ 0.00663203,  0.02556556, -0.08456191,  0.13082519],\n",
              "        [-0.05890557, -0.15126242,  0.13431409,  0.01778135],\n",
              "        [ 0.13108036, -0.00264718,  0.1595307 ,  0.12498501],\n",
              "        [ 0.17730743, -0.15630063, -0.10198582,  0.08724448],\n",
              "        [ 0.02871002, -0.11651368,  0.18402728,  0.05263999],\n",
              "        [-0.19663794,  0.20390347,  0.08610585, -0.18700337],\n",
              "        [ 0.13365293, -0.16788656, -0.01453106, -0.19059332],\n",
              "        [-0.11384561,  0.1083186 , -0.08836474, -0.00631575],\n",
              "        [-0.11726308,  0.09921029,  0.05535889, -0.06705078],\n",
              "        [-0.07163441, -0.03882834, -0.09682494,  0.02806427],\n",
              "        [ 0.1607793 ,  0.02079818,  0.17017886,  0.11414948],\n",
              "        [ 0.07742783,  0.18111983,  0.11009082,  0.14971355],\n",
              "        [-0.16446328,  0.19062   , -0.13898847,  0.00425775],\n",
              "        [-0.12722962,  0.0709382 ,  0.04997361, -0.18334025],\n",
              "        [-0.08279473, -0.20375052, -0.05271156, -0.0376976 ],\n",
              "        [ 0.14334461, -0.05304068,  0.08229232,  0.17370126],\n",
              "        [ 0.1857661 ,  0.13168979,  0.00565623,  0.01192445],\n",
              "        [ 0.20739704, -0.07728347, -0.06863402,  0.11256334],\n",
              "        [-0.18279065, -0.14501193, -0.18044445, -0.10359263],\n",
              "        [-0.03118666, -0.12673803,  0.15519673,  0.16371998],\n",
              "        [-0.02521986, -0.16777146, -0.1677186 ,  0.11695185],\n",
              "        [-0.13330361, -0.05861655, -0.01067467, -0.14704375],\n",
              "        [-0.10209256,  0.10552931,  0.19428024,  0.10134149],\n",
              "        [ 0.15986094,  0.12384152,  0.03698415,  0.1109643 ]],\n",
              "       dtype=float32)>,\n",
              " <tf.Variable 'dense_2/bias:0' shape=(4,) dtype=float32, numpy=array([0., 0., 0., 0.], dtype=float32)>]"
            ]
          },
          "metadata": {
            "tags": []
          },
          "execution_count": 63
        }
      ]
    },
    {
      "cell_type": "code",
      "metadata": {
        "colab": {
          "base_uri": "https://localhost:8080/",
          "height": 1000
        },
        "id": "77u3z__TB2TI",
        "outputId": "db78c884-e6ac-4828-beef-d94b500edeb7"
      },
      "source": [
        "#compile the model\n",
        "model.compile(loss='categorical_crossentropy', optimizer='adam', metrics=['accuracy'])\n",
        "# fit the model on the dataset\n",
        "history=model.fit(trainX2, y_train_enc, epochs=60, batch_size=32, shuffle=True, class_weight=d_class_weights, callbacks=lr_schedule, validation_data=(testX2, y_test_enc), verbose=1)\n",
        "# evaluate the model\n",
        "_, train_acc = model.evaluate(trainX2, y_train_enc, verbose=0)\n",
        "_, test_acc = model.evaluate(testX2, y_test_enc, verbose=0)\n",
        "print('Train: %.3f, Test: %.3f' % (train_acc, test_acc))\n",
        "# plot loss during training\n",
        "pyplot.subplot(211)\n",
        "pyplot.title('Loss')\n",
        "pyplot.plot(history.history['loss'], label='train')\n",
        "pyplot.plot(history.history['val_loss'], label='test')\n",
        "pyplot.legend()\n",
        "pyplot.show()\n",
        "# plot accuracy during training\n",
        "pyplot.subplot(212)\n",
        "pyplot.title('Accuracy')\n",
        "pyplot.plot(history.history['accuracy'], label='train')\n",
        "pyplot.plot(history.history['val_accuracy'], label='test')\n",
        "pyplot.legend()\n",
        "pyplot.show()"
      ],
      "execution_count": null,
      "outputs": [
        {
          "output_type": "stream",
          "text": [
            "Epoch 1/60\n",
            "5337/5337 [==============================] - 33s 6ms/step - loss: 6.2795 - accuracy: 0.4070 - val_loss: 14.4454 - val_accuracy: 0.4554\n",
            "Epoch 2/60\n",
            "5337/5337 [==============================] - 31s 6ms/step - loss: 6.0722 - accuracy: 0.4104 - val_loss: 5.2948 - val_accuracy: 0.4449\n",
            "Epoch 3/60\n",
            "5337/5337 [==============================] - 31s 6ms/step - loss: 6.0660 - accuracy: 0.4098 - val_loss: 13.8551 - val_accuracy: 0.4079\n",
            "Epoch 4/60\n",
            "5337/5337 [==============================] - 31s 6ms/step - loss: 6.0671 - accuracy: 0.4125 - val_loss: 8.0834 - val_accuracy: 0.4028\n",
            "Epoch 5/60\n",
            "5337/5337 [==============================] - 31s 6ms/step - loss: 6.0665 - accuracy: 0.4141 - val_loss: 2.1350 - val_accuracy: 0.3799\n",
            "Epoch 6/60\n",
            "5337/5337 [==============================] - 31s 6ms/step - loss: 6.0342 - accuracy: 0.4124 - val_loss: 9.1426 - val_accuracy: 0.4344\n",
            "Epoch 7/60\n",
            "5337/5337 [==============================] - 31s 6ms/step - loss: 6.0860 - accuracy: 0.4154 - val_loss: 2.2486 - val_accuracy: 0.4725\n",
            "Epoch 8/60\n",
            "5337/5337 [==============================] - 31s 6ms/step - loss: 6.0515 - accuracy: 0.4119 - val_loss: 2.4211 - val_accuracy: 0.4412\n",
            "Epoch 9/60\n",
            "5337/5337 [==============================] - 31s 6ms/step - loss: 6.0192 - accuracy: 0.4159 - val_loss: 4.1475 - val_accuracy: 0.3570\n",
            "Epoch 10/60\n",
            "5337/5337 [==============================] - 32s 6ms/step - loss: 6.0670 - accuracy: 0.4153 - val_loss: 2.8008 - val_accuracy: 0.4567\n",
            "Epoch 11/60\n",
            "5337/5337 [==============================] - 32s 6ms/step - loss: 6.0370 - accuracy: 0.4127 - val_loss: 2.8998 - val_accuracy: 0.4342\n",
            "Epoch 12/60\n",
            "5337/5337 [==============================] - 31s 6ms/step - loss: 6.0500 - accuracy: 0.4153 - val_loss: 3.5713 - val_accuracy: 0.3698\n",
            "Epoch 13/60\n",
            "5337/5337 [==============================] - 31s 6ms/step - loss: 6.0386 - accuracy: 0.4122 - val_loss: 3.6231 - val_accuracy: 0.4362\n",
            "Epoch 14/60\n",
            "5337/5337 [==============================] - 31s 6ms/step - loss: 6.0752 - accuracy: 0.4102 - val_loss: 7.0841 - val_accuracy: 0.4097\n",
            "Epoch 15/60\n",
            "5337/5337 [==============================] - 31s 6ms/step - loss: 6.0521 - accuracy: 0.4150 - val_loss: 3.7790 - val_accuracy: 0.4002\n",
            "Epoch 16/60\n",
            "5337/5337 [==============================] - 31s 6ms/step - loss: 6.0241 - accuracy: 0.4145 - val_loss: 5.7378 - val_accuracy: 0.4466\n",
            "Epoch 17/60\n",
            "5337/5337 [==============================] - 31s 6ms/step - loss: 6.0748 - accuracy: 0.4117 - val_loss: 3.4533 - val_accuracy: 0.4172\n",
            "Epoch 18/60\n",
            "5337/5337 [==============================] - 31s 6ms/step - loss: 6.0565 - accuracy: 0.4106 - val_loss: 13.9676 - val_accuracy: 0.4696\n",
            "Epoch 19/60\n",
            "5337/5337 [==============================] - 31s 6ms/step - loss: 6.0441 - accuracy: 0.4127 - val_loss: 1.3095 - val_accuracy: 0.4257\n",
            "Epoch 20/60\n",
            "5337/5337 [==============================] - 31s 6ms/step - loss: 6.0514 - accuracy: 0.4106 - val_loss: 13.6378 - val_accuracy: 0.3790\n",
            "Epoch 21/60\n",
            "5337/5337 [==============================] - 31s 6ms/step - loss: 6.0565 - accuracy: 0.4132 - val_loss: 11.2144 - val_accuracy: 0.3978\n",
            "Epoch 22/60\n",
            "5337/5337 [==============================] - 31s 6ms/step - loss: 1.4896 - accuracy: 0.4176 - val_loss: 1.2724 - val_accuracy: 0.4283\n",
            "Epoch 23/60\n",
            "5337/5337 [==============================] - 31s 6ms/step - loss: 1.2425 - accuracy: 0.4210 - val_loss: 1.2630 - val_accuracy: 0.4270\n",
            "Epoch 24/60\n",
            "5337/5337 [==============================] - 31s 6ms/step - loss: 1.2449 - accuracy: 0.4213 - val_loss: 1.2658 - val_accuracy: 0.4296\n",
            "Epoch 25/60\n",
            "5337/5337 [==============================] - 31s 6ms/step - loss: 1.2274 - accuracy: 0.4264 - val_loss: 1.2643 - val_accuracy: 0.4282\n",
            "Epoch 26/60\n",
            "5337/5337 [==============================] - 31s 6ms/step - loss: 1.2389 - accuracy: 0.4230 - val_loss: 1.2502 - val_accuracy: 0.4334\n",
            "Epoch 27/60\n",
            "5337/5337 [==============================] - 31s 6ms/step - loss: 1.2311 - accuracy: 0.4245 - val_loss: 1.2690 - val_accuracy: 0.4286\n",
            "Epoch 28/60\n",
            "5337/5337 [==============================] - 31s 6ms/step - loss: 1.2286 - accuracy: 0.4263 - val_loss: 1.2601 - val_accuracy: 0.4283\n",
            "Epoch 29/60\n",
            "5337/5337 [==============================] - 31s 6ms/step - loss: 1.2273 - accuracy: 0.4251 - val_loss: 1.2758 - val_accuracy: 0.4247\n",
            "Epoch 30/60\n",
            "5337/5337 [==============================] - 31s 6ms/step - loss: 1.2334 - accuracy: 0.4247 - val_loss: 1.2657 - val_accuracy: 0.4353\n",
            "Epoch 31/60\n",
            "5337/5337 [==============================] - 31s 6ms/step - loss: 1.2212 - accuracy: 0.4278 - val_loss: 1.2657 - val_accuracy: 0.4291\n",
            "Epoch 32/60\n",
            "5337/5337 [==============================] - 31s 6ms/step - loss: 1.2261 - accuracy: 0.4287 - val_loss: 1.2697 - val_accuracy: 0.4261\n",
            "Epoch 33/60\n",
            "5337/5337 [==============================] - 31s 6ms/step - loss: 1.2273 - accuracy: 0.4271 - val_loss: 1.2611 - val_accuracy: 0.4265\n",
            "Epoch 34/60\n",
            "5337/5337 [==============================] - 31s 6ms/step - loss: 1.2285 - accuracy: 0.4259 - val_loss: 1.2632 - val_accuracy: 0.4288\n",
            "Epoch 35/60\n",
            "5337/5337 [==============================] - 31s 6ms/step - loss: 1.2237 - accuracy: 0.4261 - val_loss: 1.2509 - val_accuracy: 0.4315\n",
            "Epoch 36/60\n",
            "5337/5337 [==============================] - 31s 6ms/step - loss: 1.2174 - accuracy: 0.4289 - val_loss: 1.2679 - val_accuracy: 0.4259\n",
            "Epoch 37/60\n",
            "5337/5337 [==============================] - 31s 6ms/step - loss: 1.2185 - accuracy: 0.4274 - val_loss: 1.2666 - val_accuracy: 0.4264\n",
            "Epoch 38/60\n",
            "5337/5337 [==============================] - 31s 6ms/step - loss: 1.2190 - accuracy: 0.4281 - val_loss: 1.2831 - val_accuracy: 0.4262\n",
            "Epoch 39/60\n",
            "5337/5337 [==============================] - 31s 6ms/step - loss: 1.2332 - accuracy: 0.4250 - val_loss: 1.2320 - val_accuracy: 0.4391\n",
            "Epoch 40/60\n",
            "5337/5337 [==============================] - 31s 6ms/step - loss: 1.2156 - accuracy: 0.4327 - val_loss: 1.2668 - val_accuracy: 0.4293\n",
            "Epoch 41/60\n",
            "5337/5337 [==============================] - 31s 6ms/step - loss: 1.2191 - accuracy: 0.4299 - val_loss: 1.2535 - val_accuracy: 0.4290\n",
            "Epoch 42/60\n",
            "5337/5337 [==============================] - 31s 6ms/step - loss: 1.1938 - accuracy: 0.4273 - val_loss: 1.2371 - val_accuracy: 0.4297\n",
            "Epoch 43/60\n",
            "5337/5337 [==============================] - 31s 6ms/step - loss: 1.2039 - accuracy: 0.4267 - val_loss: 1.2352 - val_accuracy: 0.4314\n",
            "Epoch 44/60\n",
            "5337/5337 [==============================] - 31s 6ms/step - loss: 1.1968 - accuracy: 0.4280 - val_loss: 1.2351 - val_accuracy: 0.4314\n",
            "Epoch 45/60\n",
            "5337/5337 [==============================] - 31s 6ms/step - loss: 1.1995 - accuracy: 0.4282 - val_loss: 1.2336 - val_accuracy: 0.4316\n",
            "Epoch 46/60\n",
            "5337/5337 [==============================] - 31s 6ms/step - loss: 1.2009 - accuracy: 0.4265 - val_loss: 1.2330 - val_accuracy: 0.4318\n",
            "Epoch 47/60\n",
            "5337/5337 [==============================] - 31s 6ms/step - loss: 1.1988 - accuracy: 0.4286 - val_loss: 1.2343 - val_accuracy: 0.4315\n",
            "Epoch 48/60\n",
            "5337/5337 [==============================] - 31s 6ms/step - loss: 1.1933 - accuracy: 0.4286 - val_loss: 1.2377 - val_accuracy: 0.4302\n",
            "Epoch 49/60\n",
            "5337/5337 [==============================] - 31s 6ms/step - loss: 1.1985 - accuracy: 0.4264 - val_loss: 1.2321 - val_accuracy: 0.4318\n",
            "Epoch 50/60\n",
            "5337/5337 [==============================] - 31s 6ms/step - loss: 1.2000 - accuracy: 0.4273 - val_loss: 1.2341 - val_accuracy: 0.4318\n",
            "Epoch 51/60\n",
            "5337/5337 [==============================] - 31s 6ms/step - loss: 1.1942 - accuracy: 0.4293 - val_loss: 1.2365 - val_accuracy: 0.4311\n",
            "Epoch 52/60\n",
            "5337/5337 [==============================] - 31s 6ms/step - loss: 1.2026 - accuracy: 0.4278 - val_loss: 1.2324 - val_accuracy: 0.4319\n",
            "Epoch 53/60\n",
            "5337/5337 [==============================] - 31s 6ms/step - loss: 1.1942 - accuracy: 0.4277 - val_loss: 1.2364 - val_accuracy: 0.4305\n",
            "Epoch 54/60\n",
            "5337/5337 [==============================] - 31s 6ms/step - loss: 1.2018 - accuracy: 0.4275 - val_loss: 1.2332 - val_accuracy: 0.4315\n",
            "Epoch 55/60\n",
            "5337/5337 [==============================] - 31s 6ms/step - loss: 1.2102 - accuracy: 0.4290 - val_loss: 1.2311 - val_accuracy: 0.4332\n",
            "Epoch 56/60\n",
            "5337/5337 [==============================] - 31s 6ms/step - loss: 1.2005 - accuracy: 0.4300 - val_loss: 1.2324 - val_accuracy: 0.4318\n",
            "Epoch 57/60\n",
            "5337/5337 [==============================] - 31s 6ms/step - loss: 1.1992 - accuracy: 0.4298 - val_loss: 1.2306 - val_accuracy: 0.4319\n",
            "Epoch 58/60\n",
            "5337/5337 [==============================] - 32s 6ms/step - loss: 1.1981 - accuracy: 0.4285 - val_loss: 1.2330 - val_accuracy: 0.4322\n",
            "Epoch 59/60\n",
            "5337/5337 [==============================] - 31s 6ms/step - loss: 1.1912 - accuracy: 0.4304 - val_loss: 1.2370 - val_accuracy: 0.4300\n",
            "Epoch 60/60\n",
            "5337/5337 [==============================] - 31s 6ms/step - loss: 1.1850 - accuracy: 0.4294 - val_loss: 1.2372 - val_accuracy: 0.4300\n",
            "Train: 0.427, Test: 0.430\n"
          ],
          "name": "stdout"
        },
        {
          "output_type": "display_data",
          "data": {
            "image/png": "[encoded data removed]",
            "text/plain": [
              "<Figure size 432x288 with 1 Axes>"
            ]
          },
          "metadata": {
            "tags": [],
            "needs_background": "light"
          }
        },
        {
          "output_type": "display_data",
          "data": {
            "image/png": "[encoded data removed]",
            "text/plain": [
              "<Figure size 432x288 with 1 Axes>"
            ]
          },
          "metadata": {
            "tags": [],
            "needs_background": "light"
          }
        }
      ]
    },
    {
      "cell_type": "code",
      "metadata": {
        "id": "N_1p33jfetrZ"
      },
      "source": [
        "# predict probabilities for test set\n",
        "yh_probs = model.predict(testX2, verbose=0)\n",
        "# predict classes for test set\n",
        "yh_classes = np.argmax(model.predict(testX2), axis=-1)"
      ],
      "execution_count": null,
      "outputs": []
    },
    {
      "cell_type": "markdown",
      "metadata": {
        "id": "kviUYf5xKdQJ"
      },
      "source": [
        "### Evaluating Multiclass CNN with transfer learning"
      ]
    },
    {
      "cell_type": "code",
      "metadata": {
        "id": "dA-KkXlZc8N_"
      },
      "source": [
        "#plotting classification report\n",
        "clf_report = classification_report(y_test_enc_inv,\n",
        "                                   yh_classes,\n",
        "                                   target_names=list(factor[1]),\n",
        "                                   output_dict=True)"
      ],
      "execution_count": null,
      "outputs": []
    },
    {
      "cell_type": "code",
      "metadata": {
        "colab": {
          "base_uri": "https://localhost:8080/",
          "height": 284
        },
        "id": "rpmt_hMJc8AW",
        "outputId": "e4aa9db8-1d34-4e38-9c47-15758bf36b81"
      },
      "source": [
        "sns.set(font_scale=1)\n",
        "ax=sns.heatmap(pd.DataFrame(clf_report).iloc[:-1, :].T, annot=True)\n",
        "plt.title (\"CNN with transfer learning\")\n",
        "plt.show()"
      ],
      "execution_count": null,
      "outputs": [
        {
          "output_type": "display_data",
          "data": {
            "image/png": "[encoded data removed]",
            "text/plain": [
              "<Figure size 432x288 with 2 Axes>"
            ]
          },
          "metadata": {
            "tags": []
          }
        }
      ]
    },
    {
      "cell_type": "code",
      "metadata": {
        "colab": {
          "base_uri": "https://localhost:8080/",
          "height": 603
        },
        "id": "L053eS8cn89X",
        "outputId": "c74a8be0-ec43-42df-fe7c-ea8dd63d32ec"
      },
      "source": [
        "#plotting confusion matrix\n",
        "fig, ax = plt.subplots(figsize=(10,7)) \n",
        "sns.set(font_scale=1.8)\n",
        "cm = confusion_matrix(y_test_enc_inv, yh_classes)\n",
        "f = sns.heatmap(cm, cmap=\"YlOrRd\", ax=ax,  fmt='g', annot=True)\n",
        "# passing a list of labels\n",
        "ax.set_xticklabels(list(factor[1]), fontsize=20, rotation=90)\n",
        "ax.set_yticklabels(list(factor[1]), fontsize=20, rotation=360)\n",
        "plt.title(\"Confusion Matrix - CNN with transfer learning\")\n",
        "plt.xlabel(\"Predicted Classes\", fontsize=18)\n",
        "plt.ylabel(\"True Classes\", fontsize=18)"
      ],
      "execution_count": null,
      "outputs": [
        {
          "output_type": "execute_result",
          "data": {
            "text/plain": [
              "Text(58.5, 0.5, 'True Classes')"
            ]
          },
          "metadata": {
            "tags": []
          },
          "execution_count": 71
        },
        {
          "output_type": "display_data",
          "data": {
            "image/png": "[encoded data removed]",
            "text/plain": [
              "<Figure size 720x504 with 2 Axes>"
            ]
          },
          "metadata": {
            "tags": []
          }
        }
      ]
    },
    {
      "cell_type": "code",
      "metadata": {
        "colab": {
          "base_uri": "https://localhost:8080/"
        },
        "id": "LQt0sz1cfRJf",
        "outputId": "06635a5c-2d4b-43be-ef37-b44bf007005d"
      },
      "source": [
        "#calculating Matthews coefficient\n",
        "matthews_corrcoef(y_test_enc_inv, yh_classes)"
      ],
      "execution_count": null,
      "outputs": [
        {
          "output_type": "execute_result",
          "data": {
            "text/plain": [
              "0.1998828439631372"
            ]
          },
          "metadata": {
            "tags": []
          },
          "execution_count": 53
        }
      ]
    },
    {
      "cell_type": "markdown",
      "metadata": {
        "id": "WInrpJXDZhJ8"
      },
      "source": [
        "#3. Multiclass CNN Model without transfer learning"
      ]
    },
    {
      "cell_type": "code",
      "metadata": {
        "colab": {
          "base_uri": "https://localhost:8080/"
        },
        "id": "XyLwhEOiZgwX",
        "outputId": "96a60e07-1da2-4ab3-9527-9c131b3cc975"
      },
      "source": [
        "#Creating the model\n",
        "model_4class_2=Sequential()\n",
        "model_4class_2.add(conv_1)\n",
        "model_4class_2.add(tf.keras.layers.BatchNormalization())\n",
        "model_4class_2.add(tf.keras.layers.Activation('relu'))\n",
        "\n",
        "\n",
        "model_4class_2.add(conv_layer2)\n",
        "model_4class_2.add(tf.keras.layers.BatchNormalization())\n",
        "model_4class_2.add(tf.keras.layers.Activation('relu'))\n",
        "\n",
        "\n",
        "model_4class_2.add(conv_layer2_2)\n",
        "model_4class_2.add(tf.keras.layers.BatchNormalization())\n",
        "model_4class_2.add(tf.keras.layers.Activation('relu'))\n",
        "\n",
        "\n",
        "model_4class_2.add(conv_layer3)\n",
        "model_4class_2.add(tf.keras.layers.BatchNormalization())\n",
        "model_4class_2.add(tf.keras.layers.Activation('relu'))\n",
        "\n",
        "model_4class_2.add(conv_layer3_3)\n",
        "model_4class_2.add(tf.keras.layers.BatchNormalization())\n",
        "model_4class_2.add(tf.keras.layers.Activation('relu'))\n",
        "\n",
        "model_4class_2.add(conv_layer4)\n",
        "model_4class_2.add(tf.keras.layers.BatchNormalization())\n",
        "model_4class_2.add(tf.keras.layers.Activation('relu'))\n",
        "\n",
        "model_4class_2.add(conv_layer4_3)\n",
        "model_4class_2.add(tf.keras.layers.BatchNormalization())\n",
        "model_4class_2.add(tf.keras.layers.Activation('relu'))\n",
        "\n",
        "\n",
        "model_4class_2.add(flat_layer)\n",
        "model_4class_2.add(dense_1)\n",
        "model_4class_2.add(dense_2_4)\n",
        "model_4class_2.summary()\n",
        "\n",
        "model_4class_2.output_shape"
      ],
      "execution_count": null,
      "outputs": [
        {
          "output_type": "stream",
          "text": [
            "Model: \"sequential_7\"\n",
            "_________________________________________________________________\n",
            "Layer (type)                 Output Shape              Param #   \n",
            "=================================================================\n",
            "conv1d (Conv1D)              (None, 14, 64)            128       \n",
            "_________________________________________________________________\n",
            "batch_normalization_35 (Batc (None, 14, 64)            256       \n",
            "_________________________________________________________________\n",
            "activation_38 (Activation)   (None, 14, 64)            0         \n",
            "_________________________________________________________________\n",
            "conv1d_3 (Conv1D)            (None, 14, 64)            4160      \n",
            "_________________________________________________________________\n",
            "batch_normalization_36 (Batc (None, 14, 64)            256       \n",
            "_________________________________________________________________\n",
            "activation_39 (Activation)   (None, 14, 64)            0         \n",
            "_________________________________________________________________\n",
            "conv1d_4 (Conv1D)            (None, 14, 64)            4160      \n",
            "_________________________________________________________________\n",
            "batch_normalization_37 (Batc (None, 14, 64)            256       \n",
            "_________________________________________________________________\n",
            "activation_40 (Activation)   (None, 14, 64)            0         \n",
            "_________________________________________________________________\n",
            "conv1d_5 (Conv1D)            (None, 14, 128)           8320      \n",
            "_________________________________________________________________\n",
            "batch_normalization_38 (Batc (None, 14, 128)           512       \n",
            "_________________________________________________________________\n",
            "activation_41 (Activation)   (None, 14, 128)           0         \n",
            "_________________________________________________________________\n",
            "conv1d_6 (Conv1D)            (None, 14, 128)           16512     \n",
            "_________________________________________________________________\n",
            "batch_normalization_39 (Batc (None, 14, 128)           512       \n",
            "_________________________________________________________________\n",
            "activation_42 (Activation)   (None, 14, 128)           0         \n",
            "_________________________________________________________________\n",
            "conv1d_7 (Conv1D)            (None, 14, 256)           33024     \n",
            "_________________________________________________________________\n",
            "batch_normalization_40 (Batc (None, 14, 256)           1024      \n",
            "_________________________________________________________________\n",
            "activation_43 (Activation)   (None, 14, 256)           0         \n",
            "_________________________________________________________________\n",
            "conv1d_8 (Conv1D)            (None, 14, 256)           65792     \n",
            "_________________________________________________________________\n",
            "batch_normalization_41 (Batc (None, 14, 256)           1024      \n",
            "_________________________________________________________________\n",
            "activation_44 (Activation)   (None, 14, 256)           0         \n",
            "_________________________________________________________________\n",
            "flatten (Flatten)            (None, 3584)              0         \n",
            "_________________________________________________________________\n",
            "dense (Dense)                (None, 128)               458880    \n",
            "_________________________________________________________________\n",
            "dense_2 (Dense)              (None, 4)                 516       \n",
            "=================================================================\n",
            "Total params: 595,332\n",
            "Trainable params: 560,132\n",
            "Non-trainable params: 35,200\n",
            "_________________________________________________________________\n"
          ],
          "name": "stdout"
        },
        {
          "output_type": "execute_result",
          "data": {
            "text/plain": [
              "(None, 4)"
            ]
          },
          "metadata": {
            "tags": []
          },
          "execution_count": 89
        }
      ]
    },
    {
      "cell_type": "code",
      "metadata": {
        "colab": {
          "base_uri": "https://localhost:8080/",
          "height": 1000
        },
        "id": "xXp3VOW1gdH0",
        "outputId": "edaa2729-8753-4118-9877-ba5300b43eec"
      },
      "source": [
        "#compile the model\n",
        "model_4class_2.compile(loss='categorical_crossentropy', optimizer='adam', metrics=['accuracy'])\n",
        "# fit the model on the dataset\n",
        "history=model_4class_2.fit(trainX2, y_train_enc, epochs=60, batch_size=32, shuffle=True, class_weight=d_class_weights, callbacks=lr_schedule, validation_data=(testX2, y_test_enc), verbose=1)\n",
        "# evaluate the model\n",
        "_, train_acc = model_4class_2.evaluate(trainX2, y_train_enc, verbose=0)\n",
        "_, test_acc = model_4class_2.evaluate(testX2, y_test_enc, verbose=0)\n",
        "print('Train: %.3f, Test: %.3f' % (train_acc, test_acc))\n",
        "# plot loss during training\n",
        "sns.set(font_scale=1)\n",
        "pyplot.subplot(211)\n",
        "pyplot.rcParams['font.size'] = '16'\n",
        "pyplot.title('Loss')\n",
        "pyplot.plot(history.history['loss'], label='train')\n",
        "pyplot.plot(history.history['val_loss'], label='test')\n",
        "pyplot.legend()\n",
        "pyplot.show()\n",
        "# plot accuracy during training\n",
        "pyplot.subplot(212)\n",
        "pyplot.title('Accuracy')\n",
        "pyplot.plot(history.history['accuracy'], label='train')\n",
        "pyplot.plot(history.history['val_accuracy'], label='test')\n",
        "pyplot.legend()\n",
        "pyplot.show()"
      ],
      "execution_count": null,
      "outputs": [
        {
          "output_type": "stream",
          "text": [
            "Epoch 1/60\n",
            "5337/5337 [==============================] - 50s 9ms/step - loss: 6.9660 - accuracy: 0.3620 - val_loss: 8.6721 - val_accuracy: 0.3458\n",
            "Epoch 2/60\n",
            "5337/5337 [==============================] - 47s 9ms/step - loss: 6.4635 - accuracy: 0.4109 - val_loss: 6.4686 - val_accuracy: 0.3620\n",
            "Epoch 3/60\n",
            "5337/5337 [==============================] - 47s 9ms/step - loss: 6.4588 - accuracy: 0.4106 - val_loss: 8.5870 - val_accuracy: 0.3586\n",
            "Epoch 4/60\n",
            "5337/5337 [==============================] - 48s 9ms/step - loss: 6.4670 - accuracy: 0.4111 - val_loss: 6.8891 - val_accuracy: 0.4620\n",
            "Epoch 5/60\n",
            "5337/5337 [==============================] - 47s 9ms/step - loss: 6.4671 - accuracy: 0.4101 - val_loss: 5.6305 - val_accuracy: 0.3370\n",
            "Epoch 6/60\n",
            "5337/5337 [==============================] - 47s 9ms/step - loss: 6.4560 - accuracy: 0.4085 - val_loss: 7.3439 - val_accuracy: 0.3792\n",
            "Epoch 7/60\n",
            "5337/5337 [==============================] - 47s 9ms/step - loss: 6.4681 - accuracy: 0.4098 - val_loss: 5.5227 - val_accuracy: 0.4191\n",
            "Epoch 8/60\n",
            "5337/5337 [==============================] - 47s 9ms/step - loss: 6.4615 - accuracy: 0.4083 - val_loss: 5.7828 - val_accuracy: 0.3561\n",
            "Epoch 9/60\n",
            "5337/5337 [==============================] - 47s 9ms/step - loss: 6.4520 - accuracy: 0.4088 - val_loss: 5.9997 - val_accuracy: 0.4105\n",
            "Epoch 10/60\n",
            "5337/5337 [==============================] - 47s 9ms/step - loss: 6.4604 - accuracy: 0.4133 - val_loss: 5.7913 - val_accuracy: 0.3812\n",
            "Epoch 11/60\n",
            "5337/5337 [==============================] - 47s 9ms/step - loss: 6.4512 - accuracy: 0.4161 - val_loss: 5.8781 - val_accuracy: 0.3356\n",
            "Epoch 12/60\n",
            "5337/5337 [==============================] - 48s 9ms/step - loss: 6.4666 - accuracy: 0.4121 - val_loss: 6.3089 - val_accuracy: 0.1237\n",
            "Epoch 13/60\n",
            "5337/5337 [==============================] - 47s 9ms/step - loss: 6.4564 - accuracy: 0.4118 - val_loss: 6.2323 - val_accuracy: 0.1411\n",
            "Epoch 14/60\n",
            "5337/5337 [==============================] - 47s 9ms/step - loss: 6.4620 - accuracy: 0.4125 - val_loss: 7.0678 - val_accuracy: 0.1505\n",
            "Epoch 15/60\n",
            "5337/5337 [==============================] - 48s 9ms/step - loss: 6.4637 - accuracy: 0.4125 - val_loss: 5.9365 - val_accuracy: 0.4269\n",
            "Epoch 16/60\n",
            "5337/5337 [==============================] - 47s 9ms/step - loss: 6.4536 - accuracy: 0.4117 - val_loss: 6.4958 - val_accuracy: 0.4000\n",
            "Epoch 17/60\n",
            "5337/5337 [==============================] - 47s 9ms/step - loss: 6.4577 - accuracy: 0.4146 - val_loss: 6.1666 - val_accuracy: 0.1299\n",
            "Epoch 18/60\n",
            "5337/5337 [==============================] - 47s 9ms/step - loss: 6.4534 - accuracy: 0.4100 - val_loss: 9.0389 - val_accuracy: 0.0698\n",
            "Epoch 19/60\n",
            "5337/5337 [==============================] - 47s 9ms/step - loss: 6.4680 - accuracy: 0.4041 - val_loss: 5.7523 - val_accuracy: 0.1192\n",
            "Epoch 20/60\n",
            "5337/5337 [==============================] - 47s 9ms/step - loss: 6.4508 - accuracy: 0.4151 - val_loss: 8.5779 - val_accuracy: 0.2930\n",
            "Epoch 21/60\n",
            "5337/5337 [==============================] - 47s 9ms/step - loss: 6.4634 - accuracy: 0.4101 - val_loss: 7.7562 - val_accuracy: 0.4039\n",
            "Epoch 22/60\n",
            "5337/5337 [==============================] - 47s 9ms/step - loss: 1.4196 - accuracy: 0.4130 - val_loss: 1.2863 - val_accuracy: 0.4329\n",
            "Epoch 23/60\n",
            "5337/5337 [==============================] - 47s 9ms/step - loss: 1.2529 - accuracy: 0.4288 - val_loss: 1.2950 - val_accuracy: 0.4199\n",
            "Epoch 24/60\n",
            "5337/5337 [==============================] - 47s 9ms/step - loss: 1.2531 - accuracy: 0.4184 - val_loss: 1.2741 - val_accuracy: 0.4342\n",
            "Epoch 25/60\n",
            "5337/5337 [==============================] - 47s 9ms/step - loss: 1.2449 - accuracy: 0.4258 - val_loss: 1.2712 - val_accuracy: 0.4343\n",
            "Epoch 26/60\n",
            "5337/5337 [==============================] - 47s 9ms/step - loss: 1.2408 - accuracy: 0.4278 - val_loss: 1.2802 - val_accuracy: 0.4223\n",
            "Epoch 27/60\n",
            "5337/5337 [==============================] - 47s 9ms/step - loss: 1.2445 - accuracy: 0.4242 - val_loss: 1.2795 - val_accuracy: 0.4311\n",
            "Epoch 28/60\n",
            "5337/5337 [==============================] - 47s 9ms/step - loss: 1.2466 - accuracy: 0.4234 - val_loss: 1.2660 - val_accuracy: 0.4367\n",
            "Epoch 29/60\n",
            "5337/5337 [==============================] - 47s 9ms/step - loss: 1.2469 - accuracy: 0.4252 - val_loss: 1.2736 - val_accuracy: 0.4332\n",
            "Epoch 30/60\n",
            "5337/5337 [==============================] - 47s 9ms/step - loss: 1.2446 - accuracy: 0.4288 - val_loss: 1.2676 - val_accuracy: 0.4360\n",
            "Epoch 31/60\n",
            "5337/5337 [==============================] - 47s 9ms/step - loss: 1.2407 - accuracy: 0.4305 - val_loss: 1.2751 - val_accuracy: 0.4242\n",
            "Epoch 32/60\n",
            "5337/5337 [==============================] - 47s 9ms/step - loss: 1.2402 - accuracy: 0.4252 - val_loss: 1.2734 - val_accuracy: 0.4258\n",
            "Epoch 33/60\n",
            "5337/5337 [==============================] - 47s 9ms/step - loss: 1.2382 - accuracy: 0.4291 - val_loss: 1.2614 - val_accuracy: 0.4378\n",
            "Epoch 34/60\n",
            "5337/5337 [==============================] - 47s 9ms/step - loss: 1.2340 - accuracy: 0.4329 - val_loss: 1.2845 - val_accuracy: 0.4232\n",
            "Epoch 35/60\n",
            "5337/5337 [==============================] - 47s 9ms/step - loss: 1.2258 - accuracy: 0.4279 - val_loss: 1.2783 - val_accuracy: 0.4260\n",
            "Epoch 36/60\n",
            "5337/5337 [==============================] - 47s 9ms/step - loss: 1.2283 - accuracy: 0.4276 - val_loss: 1.2713 - val_accuracy: 0.4361\n",
            "Epoch 37/60\n",
            "5337/5337 [==============================] - 47s 9ms/step - loss: 1.2336 - accuracy: 0.4293 - val_loss: 1.2624 - val_accuracy: 0.4384\n",
            "Epoch 38/60\n",
            "5337/5337 [==============================] - 47s 9ms/step - loss: 1.2354 - accuracy: 0.4311 - val_loss: 1.2667 - val_accuracy: 0.4371\n",
            "Epoch 39/60\n",
            "5337/5337 [==============================] - 47s 9ms/step - loss: 1.2394 - accuracy: 0.4287 - val_loss: 1.2671 - val_accuracy: 0.4365\n",
            "Epoch 40/60\n",
            "5337/5337 [==============================] - 47s 9ms/step - loss: 1.2400 - accuracy: 0.4288 - val_loss: 1.2752 - val_accuracy: 0.4299\n",
            "Epoch 41/60\n",
            "5337/5337 [==============================] - 47s 9ms/step - loss: 1.2375 - accuracy: 0.4305 - val_loss: 1.2712 - val_accuracy: 0.4269\n",
            "Epoch 42/60\n",
            "5337/5337 [==============================] - 47s 9ms/step - loss: 1.1912 - accuracy: 0.4275 - val_loss: 1.2221 - val_accuracy: 0.4369\n",
            "Epoch 43/60\n",
            "5337/5337 [==============================] - 47s 9ms/step - loss: 1.1914 - accuracy: 0.4319 - val_loss: 1.2226 - val_accuracy: 0.4369\n",
            "Epoch 44/60\n",
            "5337/5337 [==============================] - 47s 9ms/step - loss: 1.1980 - accuracy: 0.4299 - val_loss: 1.2209 - val_accuracy: 0.4370\n",
            "Epoch 45/60\n",
            "5337/5337 [==============================] - 47s 9ms/step - loss: 1.1984 - accuracy: 0.4310 - val_loss: 1.2207 - val_accuracy: 0.4369\n",
            "Epoch 46/60\n",
            "5337/5337 [==============================] - 46s 9ms/step - loss: 1.1979 - accuracy: 0.4318 - val_loss: 1.2213 - val_accuracy: 0.4368\n",
            "Epoch 47/60\n",
            "5337/5337 [==============================] - 47s 9ms/step - loss: 1.1780 - accuracy: 0.4334 - val_loss: 1.2225 - val_accuracy: 0.4366\n",
            "Epoch 48/60\n",
            "5337/5337 [==============================] - 47s 9ms/step - loss: 1.1851 - accuracy: 0.4328 - val_loss: 1.2239 - val_accuracy: 0.4364\n",
            "Epoch 49/60\n",
            "5337/5337 [==============================] - 47s 9ms/step - loss: 1.1899 - accuracy: 0.4337 - val_loss: 1.2227 - val_accuracy: 0.4367\n",
            "Epoch 50/60\n",
            "5337/5337 [==============================] - 47s 9ms/step - loss: 1.1883 - accuracy: 0.4319 - val_loss: 1.2238 - val_accuracy: 0.4363\n",
            "Epoch 51/60\n",
            "5337/5337 [==============================] - 47s 9ms/step - loss: 1.1987 - accuracy: 0.4341 - val_loss: 1.2235 - val_accuracy: 0.4364\n",
            "Epoch 52/60\n",
            "5337/5337 [==============================] - 47s 9ms/step - loss: 1.1952 - accuracy: 0.4306 - val_loss: 1.2224 - val_accuracy: 0.4365\n",
            "Epoch 53/60\n",
            "5337/5337 [==============================] - 46s 9ms/step - loss: 1.1940 - accuracy: 0.4330 - val_loss: 1.2199 - val_accuracy: 0.4369\n",
            "Epoch 54/60\n",
            "5337/5337 [==============================] - 47s 9ms/step - loss: 1.1869 - accuracy: 0.4327 - val_loss: 1.2217 - val_accuracy: 0.4368\n",
            "Epoch 55/60\n",
            "5337/5337 [==============================] - 47s 9ms/step - loss: 1.1902 - accuracy: 0.4322 - val_loss: 1.2217 - val_accuracy: 0.4366\n",
            "Epoch 56/60\n",
            "5337/5337 [==============================] - 46s 9ms/step - loss: 1.1940 - accuracy: 0.4336 - val_loss: 1.2221 - val_accuracy: 0.4365\n",
            "Epoch 57/60\n",
            "5337/5337 [==============================] - 46s 9ms/step - loss: 1.1918 - accuracy: 0.4318 - val_loss: 1.2217 - val_accuracy: 0.4365\n",
            "Epoch 58/60\n",
            "5337/5337 [==============================] - 47s 9ms/step - loss: 1.1992 - accuracy: 0.4312 - val_loss: 1.2217 - val_accuracy: 0.4365\n",
            "Epoch 59/60\n",
            "5337/5337 [==============================] - 47s 9ms/step - loss: 1.1908 - accuracy: 0.4331 - val_loss: 1.2213 - val_accuracy: 0.4366\n",
            "Epoch 60/60\n",
            "5337/5337 [==============================] - 47s 9ms/step - loss: 1.1806 - accuracy: 0.4314 - val_loss: 1.2244 - val_accuracy: 0.4362\n",
            "Train: 0.434, Test: 0.436\n"
          ],
          "name": "stdout"
        },
        {
          "output_type": "display_data",
          "data": {
            "image/png": "[encoded data removed]",
            "text/plain": [
              "<Figure size 432x288 with 1 Axes>"
            ]
          },
          "metadata": {
            "tags": []
          }
        },
        {
          "output_type": "display_data",
          "data": {
            "image/png": "[encoded data removed]",
            "text/plain": [
              "<Figure size 432x288 with 1 Axes>"
            ]
          },
          "metadata": {
            "tags": []
          }
        }
      ]
    },
    {
      "cell_type": "code",
      "metadata": {
        "id": "mdWgK2ivg03X"
      },
      "source": [
        "# predict probabilities for test set\n",
        "yh_probs = model.predict(testX2, verbose=0)\n",
        "# predict classes for test set\n",
        "yh_classes_no_tr = np.argmax(model.predict(testX2), axis=-1)"
      ],
      "execution_count": null,
      "outputs": []
    },
    {
      "cell_type": "markdown",
      "metadata": {
        "id": "JCDMSFhMLtnn"
      },
      "source": [
        "### Evaluating Multiclass CNN without transfer learning"
      ]
    },
    {
      "cell_type": "code",
      "metadata": {
        "colab": {
          "base_uri": "https://localhost:8080/"
        },
        "id": "5KnN-zLuqTPE",
        "outputId": "1db9ad2f-f7c4-42d9-cecc-252e2ac3104c"
      },
      "source": [
        "#plotting classification report\n",
        "clf_report = classification_report(y_test_enc_inv,\n",
        "                                   yh_classes_no_tr,\n",
        "                                   target_names=list(factor[1]),\n",
        "                                   output_dict=True)"
      ],
      "execution_count": null,
      "outputs": [
        {
          "output_type": "stream",
          "text": [
            "/usr/local/lib/python3.7/dist-packages/sklearn/metrics/_classification.py:1272: UndefinedMetricWarning: Precision and F-score are ill-defined and being set to 0.0 in labels with no predicted samples. Use `zero_division` parameter to control this behavior.\n",
            "  _warn_prf(average, modifier, msg_start, len(result))\n"
          ],
          "name": "stderr"
        }
      ]
    },
    {
      "cell_type": "code",
      "metadata": {
        "id": "l8NuI2S0qTPG"
      },
      "source": [
        "sns.set(font_scale=1)\n",
        "ax=sns.heatmap(pd.DataFrame(clf_report).iloc[:-1, :].T, annot=True)\n",
        "plt.title (\"CNN without transfer learning\")\n",
        "plt.show()"
      ],
      "execution_count": null,
      "outputs": []
    },
    {
      "cell_type": "code",
      "metadata": {
        "colab": {
          "base_uri": "https://localhost:8080/",
          "height": 603
        },
        "id": "JU2sMmJdOv0X",
        "outputId": "de6c9e06-01c4-47f5-bf07-1af510969a0b"
      },
      "source": [
        "#plotting confusion matrix\n",
        "fig, ax = plt.subplots(figsize=(10,7)) \n",
        "sns.set(font_scale=1.8)\n",
        "cm = confusion_matrix(y_test_enc_inv, yh_classes_no_tr)\n",
        "f = sns.heatmap(cm, cmap=\"YlOrRd\", ax=ax,  fmt='g', annot=True)\n",
        "# passing a list of labels\n",
        "ax.set_xticklabels(list(factor[1]), fontsize=20, rotation=90)\n",
        "ax.set_yticklabels(list(factor[1]), fontsize=20, rotation=360)\n",
        "plt.title(\"Confusion Matrix - CNN without transfer learning\")\n",
        "plt.xlabel(\"Predicted Classes\", fontsize=18)\n",
        "plt.ylabel(\"True Classes\", fontsize=18)"
      ],
      "execution_count": null,
      "outputs": [
        {
          "output_type": "execute_result",
          "data": {
            "text/plain": [
              "Text(66.5, 0.5, 'True Classes')"
            ]
          },
          "metadata": {
            "tags": []
          },
          "execution_count": 90
        },
        {
          "output_type": "display_data",
          "data": {
            "image/png": "[encoded data removed]",
            "text/plain": [
              "<Figure size 720x504 with 2 Axes>"
            ]
          },
          "metadata": {
            "tags": []
          }
        }
      ]
    },
    {
      "cell_type": "code",
      "metadata": {
        "colab": {
          "base_uri": "https://localhost:8080/"
        },
        "id": "OP9iAtqxqTPG",
        "outputId": "190981bf-ae18-46a0-ef8e-fdd867980995"
      },
      "source": [
        "#Calculating Matthews coefficient\n",
        "matthews_corrcoef(y_test_enc_inv, yh_classes_no_tr)"
      ],
      "execution_count": null,
      "outputs": [
        {
          "output_type": "execute_result",
          "data": {
            "text/plain": [
              "0.0727794653760182"
            ]
          },
          "metadata": {
            "tags": []
          },
          "execution_count": 89
        }
      ]
    },
    {
      "cell_type": "markdown",
      "metadata": {
        "id": "1YKexsQrbpfv"
      },
      "source": [
        "## Results\n",
        "The CNN model designed using the weights transferred from two-classes model performs much better than the CNN directly trained for four-classes outcome. All macro-averaged measures are better for the former than for the latter: F-1 score is 0.34 vs. 0.21, precision is 0.38 vs. 0.27 and recall is 0.47 vs. 0.41. The single-class metrics are also higher for the CNN with transfer learning: all individual class F1-scores are considerably better than the CNN without transfer learning ones. The Matthews Correlation Coefficient is again much higher for the model with transfer learning: 0.20 vs. 0.07 for the model directly built for the four classes output.\n"
      ]
    }
  ]
}
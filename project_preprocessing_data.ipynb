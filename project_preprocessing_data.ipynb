{
 "cells": [
  {
   "cell_type": "code",
   "execution_count": 1,
   "metadata": {},
   "outputs": [],
   "source": [
    "#importing libraries\n",
    "import pandas as pd\n",
    "import numpy as np \n",
    "%matplotlib inline\n",
    "import seaborn as sns \n",
    "from matplotlib.patches import Patch\n",
    "import matplotlib.pyplot as plt"
   ]
  },
  {
   "cell_type": "code",
   "execution_count": 2,
   "metadata": {},
   "outputs": [],
   "source": [
    "#importing the data\n",
    "df=pd.read_csv(r'C:\\\\Users\\\\strog\\\\Documents\\\\Google Dr Backup\\\\Google Dr Glasgow DA Master\\\\Final Project\\\\scripts\\\\subset.csv', \n",
    "                      sep=',')"
   ]
  },
  {
   "cell_type": "code",
   "execution_count": 4,
   "metadata": {},
   "outputs": [
    {
     "name": "stdout",
     "output_type": "stream",
     "text": [
      "<class 'pandas.core.frame.DataFrame'>\n",
      "RangeIndex: 254887 entries, 0 to 254886\n",
      "Data columns (total 23 columns):\n",
      "Num_Acc              254887 non-null int64\n",
      "moving_obst_hit      254887 non-null object\n",
      "shock_point          254887 non-null object\n",
      "severity             254887 non-null object\n",
      "gender               254887 non-null object\n",
      "journey_reason       254887 non-null object\n",
      "secu_equipment       254887 non-null object\n",
      "acc_year             254887 non-null int64\n",
      "acc_hour             254887 non-null int64\n",
      "lighting             254887 non-null object\n",
      "built_up_area        254887 non-null object\n",
      "junction_type        254887 non-null object\n",
      "atmospheric_cond     254887 non-null object\n",
      "road_type            254887 non-null object\n",
      "traffic_type         254887 non-null object\n",
      "lanes_number         254887 non-null int64\n",
      "road_slope           254887 non-null object\n",
      "road_shape           254887 non-null object\n",
      "lane_width           254887 non-null int64\n",
      "surface_state        254887 non-null object\n",
      "acc_place_on_road    254887 non-null object\n",
      "driver_age           254887 non-null int64\n",
      "speed                254887 non-null float64\n",
      "dtypes: float64(1), int64(6), object(16)\n",
      "memory usage: 44.7+ MB\n",
      "None\n"
     ]
    }
   ],
   "source": [
    "#printing main info about dataset\n",
    "print(df.info())"
   ]
  },
  {
   "cell_type": "markdown",
   "metadata": {},
   "source": [
    "### Checking outliers"
   ]
  },
  {
   "cell_type": "code",
   "execution_count": 3,
   "metadata": {},
   "outputs": [
    {
     "data": {
      "text/plain": [
       "<matplotlib.axes._subplots.AxesSubplot at 0x1abb21219e8>"
      ]
     },
     "execution_count": 3,
     "metadata": {},
     "output_type": "execute_result"
    },
    {
     "data": {
      "image/png": "[encoded data removed]",
      "text/plain": [
       "<Figure size 432x288 with 1 Axes>"
      ]
     },
     "metadata": {
      "needs_background": "light"
     },
     "output_type": "display_data"
    }
   ],
   "source": [
    "#box plot for lane_width variable\n",
    "sns.boxplot(x=df['lane_width'])"
   ]
  },
  {
   "cell_type": "code",
   "execution_count": 4,
   "metadata": {},
   "outputs": [
    {
     "data": {
      "text/plain": [
       "Num_Acc              81049\n",
       "moving_obst_hit      81049\n",
       "shock_point          81049\n",
       "severity             81049\n",
       "gender               81049\n",
       "journey_reason       81049\n",
       "secu_equipment       81049\n",
       "acc_year             81049\n",
       "acc_hour             81049\n",
       "lighting             81049\n",
       "built_up_area        81049\n",
       "junction_type        81049\n",
       "atmospheric_cond     81049\n",
       "road_type            81049\n",
       "traffic_type         81049\n",
       "lanes_number         81049\n",
       "road_slope           81049\n",
       "road_shape           81049\n",
       "lane_width           81049\n",
       "surface_state        81049\n",
       "acc_place_on_road    81049\n",
       "driver_age           81049\n",
       "speed                81049\n",
       "dtype: int64"
      ]
     },
     "execution_count": 4,
     "metadata": {},
     "output_type": "execute_result"
    }
   ],
   "source": [
    "#counting how many observations have lane_width missing\n",
    "df[df['lane_width']==0].count()\n",
    "#the data is missing in 32% of cases - we will drop this variable"
   ]
  },
  {
   "cell_type": "code",
   "execution_count": 5,
   "metadata": {},
   "outputs": [
    {
     "data": {
      "text/plain": [
       "<matplotlib.axes._subplots.AxesSubplot at 0x1abb24381d0>"
      ]
     },
     "execution_count": 5,
     "metadata": {},
     "output_type": "execute_result"
    },
    {
     "data": {
      "image/png": "[encoded data removed]",
      "text/plain": [
       "<Figure size 432x288 with 1 Axes>"
      ]
     },
     "metadata": {
      "needs_background": "light"
     },
     "output_type": "display_data"
    }
   ],
   "source": [
    "#box plot for driver_age variable\n",
    "sns.boxplot(x=df['driver_age'])"
   ]
  },
  {
   "cell_type": "code",
   "execution_count": 6,
   "metadata": {},
   "outputs": [
    {
     "data": {
      "text/html": [
       "<div>\n",
       "<style scoped>\n",
       "    .dataframe tbody tr th:only-of-type {\n",
       "        vertical-align: middle;\n",
       "    }\n",
       "\n",
       "    .dataframe tbody tr th {\n",
       "        vertical-align: top;\n",
       "    }\n",
       "\n",
       "    .dataframe thead th {\n",
       "        text-align: right;\n",
       "    }\n",
       "</style>\n",
       "<table border=\"1\" class=\"dataframe\">\n",
       "  <thead>\n",
       "    <tr style=\"text-align: right;\">\n",
       "      <th></th>\n",
       "      <th>Num_Acc</th>\n",
       "      <th>acc_year</th>\n",
       "      <th>acc_hour</th>\n",
       "      <th>lanes_number</th>\n",
       "      <th>lane_width</th>\n",
       "      <th>driver_age</th>\n",
       "      <th>speed</th>\n",
       "    </tr>\n",
       "  </thead>\n",
       "  <tbody>\n",
       "    <tr>\n",
       "      <th>count</th>\n",
       "      <td>2.548870e+05</td>\n",
       "      <td>254887.000000</td>\n",
       "      <td>254887.000000</td>\n",
       "      <td>254887.000000</td>\n",
       "      <td>254887.000000</td>\n",
       "      <td>254887.000000</td>\n",
       "      <td>254887.000000</td>\n",
       "    </tr>\n",
       "    <tr>\n",
       "      <th>mean</th>\n",
       "      <td>2.010424e+11</td>\n",
       "      <td>2010.423796</td>\n",
       "      <td>14.055425</td>\n",
       "      <td>2.099938</td>\n",
       "      <td>58.670018</td>\n",
       "      <td>40.463602</td>\n",
       "      <td>66.952744</td>\n",
       "    </tr>\n",
       "    <tr>\n",
       "      <th>std</th>\n",
       "      <td>3.852347e+08</td>\n",
       "      <td>3.852402</td>\n",
       "      <td>5.033674</td>\n",
       "      <td>1.527540</td>\n",
       "      <td>65.842811</td>\n",
       "      <td>16.660870</td>\n",
       "      <td>23.879751</td>\n",
       "    </tr>\n",
       "    <tr>\n",
       "      <th>min</th>\n",
       "      <td>2.005000e+11</td>\n",
       "      <td>2005.000000</td>\n",
       "      <td>1.000000</td>\n",
       "      <td>0.000000</td>\n",
       "      <td>0.000000</td>\n",
       "      <td>0.000000</td>\n",
       "      <td>50.000000</td>\n",
       "    </tr>\n",
       "    <tr>\n",
       "      <th>25%</th>\n",
       "      <td>2.007000e+11</td>\n",
       "      <td>2007.000000</td>\n",
       "      <td>10.000000</td>\n",
       "      <td>2.000000</td>\n",
       "      <td>0.000000</td>\n",
       "      <td>26.000000</td>\n",
       "      <td>50.000000</td>\n",
       "    </tr>\n",
       "    <tr>\n",
       "      <th>50%</th>\n",
       "      <td>2.010000e+11</td>\n",
       "      <td>2010.000000</td>\n",
       "      <td>15.000000</td>\n",
       "      <td>2.000000</td>\n",
       "      <td>60.000000</td>\n",
       "      <td>37.000000</td>\n",
       "      <td>50.000000</td>\n",
       "    </tr>\n",
       "    <tr>\n",
       "      <th>75%</th>\n",
       "      <td>2.014000e+11</td>\n",
       "      <td>2014.000000</td>\n",
       "      <td>18.000000</td>\n",
       "      <td>2.000000</td>\n",
       "      <td>80.000000</td>\n",
       "      <td>51.000000</td>\n",
       "      <td>80.000000</td>\n",
       "    </tr>\n",
       "    <tr>\n",
       "      <th>max</th>\n",
       "      <td>2.017001e+11</td>\n",
       "      <td>2017.000000</td>\n",
       "      <td>23.000000</td>\n",
       "      <td>86.000000</td>\n",
       "      <td>999.000000</td>\n",
       "      <td>109.000000</td>\n",
       "      <td>130.000000</td>\n",
       "    </tr>\n",
       "  </tbody>\n",
       "</table>\n",
       "</div>"
      ],
      "text/plain": [
       "            Num_Acc       acc_year       acc_hour   lanes_number  \\\n",
       "count  2.548870e+05  254887.000000  254887.000000  254887.000000   \n",
       "mean   2.010424e+11    2010.423796      14.055425       2.099938   \n",
       "std    3.852347e+08       3.852402       5.033674       1.527540   \n",
       "min    2.005000e+11    2005.000000       1.000000       0.000000   \n",
       "25%    2.007000e+11    2007.000000      10.000000       2.000000   \n",
       "50%    2.010000e+11    2010.000000      15.000000       2.000000   \n",
       "75%    2.014000e+11    2014.000000      18.000000       2.000000   \n",
       "max    2.017001e+11    2017.000000      23.000000      86.000000   \n",
       "\n",
       "          lane_width     driver_age          speed  \n",
       "count  254887.000000  254887.000000  254887.000000  \n",
       "mean       58.670018      40.463602      66.952744  \n",
       "std        65.842811      16.660870      23.879751  \n",
       "min         0.000000       0.000000      50.000000  \n",
       "25%         0.000000      26.000000      50.000000  \n",
       "50%        60.000000      37.000000      50.000000  \n",
       "75%        80.000000      51.000000      80.000000  \n",
       "max       999.000000     109.000000     130.000000  "
      ]
     },
     "execution_count": 6,
     "metadata": {},
     "output_type": "execute_result"
    }
   ],
   "source": [
    "#showing mean, standard deviation and percentiles\n",
    "df.describe()"
   ]
  },
  {
   "cell_type": "code",
   "execution_count": 7,
   "metadata": {},
   "outputs": [
    {
     "name": "stdout",
     "output_type": "stream",
     "text": [
      "37.0\n"
     ]
    }
   ],
   "source": [
    "# replacing outliers for driver_age variable with median value\n",
    "print(df['driver_age'].quantile(0.50))\n",
    "df['driver_age'] = np.where(df['driver_age'] > 95, 37, df['driver_age'])\n",
    "df['driver_age'] = np.where(df['driver_age'] <14, 37, df['driver_age'])"
   ]
  },
  {
   "cell_type": "code",
   "execution_count": 9,
   "metadata": {},
   "outputs": [],
   "source": [
    "#dropping the variables we will not use\n",
    "df=df.drop(['lane_width', 'acc_year', 'lanes_number', 'moving_obst_hit'], axis=1)"
   ]
  },
  {
   "cell_type": "code",
   "execution_count": 10,
   "metadata": {},
   "outputs": [
    {
     "data": {
      "text/html": [
       "<div>\n",
       "<style scoped>\n",
       "    .dataframe tbody tr th:only-of-type {\n",
       "        vertical-align: middle;\n",
       "    }\n",
       "\n",
       "    .dataframe tbody tr th {\n",
       "        vertical-align: top;\n",
       "    }\n",
       "\n",
       "    .dataframe thead th {\n",
       "        text-align: right;\n",
       "    }\n",
       "</style>\n",
       "<table border=\"1\" class=\"dataframe\">\n",
       "  <thead>\n",
       "    <tr style=\"text-align: right;\">\n",
       "      <th></th>\n",
       "      <th>Num_Acc</th>\n",
       "      <th>acc_hour</th>\n",
       "      <th>driver_age</th>\n",
       "      <th>speed</th>\n",
       "    </tr>\n",
       "  </thead>\n",
       "  <tbody>\n",
       "    <tr>\n",
       "      <th>count</th>\n",
       "      <td>2.548870e+05</td>\n",
       "      <td>254887.000000</td>\n",
       "      <td>254887.000000</td>\n",
       "      <td>254887.000000</td>\n",
       "    </tr>\n",
       "    <tr>\n",
       "      <th>mean</th>\n",
       "      <td>2.010424e+11</td>\n",
       "      <td>14.055425</td>\n",
       "      <td>40.452553</td>\n",
       "      <td>66.952744</td>\n",
       "    </tr>\n",
       "    <tr>\n",
       "      <th>std</th>\n",
       "      <td>3.852347e+08</td>\n",
       "      <td>5.033674</td>\n",
       "      <td>16.636992</td>\n",
       "      <td>23.879751</td>\n",
       "    </tr>\n",
       "    <tr>\n",
       "      <th>min</th>\n",
       "      <td>2.005000e+11</td>\n",
       "      <td>1.000000</td>\n",
       "      <td>14.000000</td>\n",
       "      <td>50.000000</td>\n",
       "    </tr>\n",
       "    <tr>\n",
       "      <th>25%</th>\n",
       "      <td>2.007000e+11</td>\n",
       "      <td>10.000000</td>\n",
       "      <td>26.000000</td>\n",
       "      <td>50.000000</td>\n",
       "    </tr>\n",
       "    <tr>\n",
       "      <th>50%</th>\n",
       "      <td>2.010000e+11</td>\n",
       "      <td>15.000000</td>\n",
       "      <td>37.000000</td>\n",
       "      <td>50.000000</td>\n",
       "    </tr>\n",
       "    <tr>\n",
       "      <th>75%</th>\n",
       "      <td>2.014000e+11</td>\n",
       "      <td>18.000000</td>\n",
       "      <td>51.000000</td>\n",
       "      <td>80.000000</td>\n",
       "    </tr>\n",
       "    <tr>\n",
       "      <th>max</th>\n",
       "      <td>2.017001e+11</td>\n",
       "      <td>23.000000</td>\n",
       "      <td>95.000000</td>\n",
       "      <td>130.000000</td>\n",
       "    </tr>\n",
       "  </tbody>\n",
       "</table>\n",
       "</div>"
      ],
      "text/plain": [
       "            Num_Acc       acc_hour     driver_age          speed\n",
       "count  2.548870e+05  254887.000000  254887.000000  254887.000000\n",
       "mean   2.010424e+11      14.055425      40.452553      66.952744\n",
       "std    3.852347e+08       5.033674      16.636992      23.879751\n",
       "min    2.005000e+11       1.000000      14.000000      50.000000\n",
       "25%    2.007000e+11      10.000000      26.000000      50.000000\n",
       "50%    2.010000e+11      15.000000      37.000000      50.000000\n",
       "75%    2.014000e+11      18.000000      51.000000      80.000000\n",
       "max    2.017001e+11      23.000000      95.000000     130.000000"
      ]
     },
     "execution_count": 10,
     "metadata": {},
     "output_type": "execute_result"
    }
   ],
   "source": [
    "#showing mean, st.deviation and percentiles after outliers handling \n",
    "df.describe()"
   ]
  },
  {
   "cell_type": "code",
   "execution_count": 64,
   "metadata": {},
   "outputs": [],
   "source": [
    "#export the dataset before categorical data treatment\n",
    "path=r\"C:\\Users\\strog\\Documents\\Google Dr Backup\\Google Dr Glasgow DA Master\\Final Project\\scripts\\subset_2_clean.csv\"\n",
    "df.to_csv(path, encoding='utf-8', index=False)"
   ]
  },
  {
   "cell_type": "markdown",
   "metadata": {},
   "source": [
    "## Aggregating categories for categorical variables"
   ]
  },
  {
   "cell_type": "code",
   "execution_count": 13,
   "metadata": {},
   "outputs": [
    {
     "data": {
      "text/plain": [
       "day light                      173278\n",
       "night - street lighting on      41533\n",
       "night - no street lighting      23419\n",
       "sunset or dawn                  14714\n",
       "night - street lighting off      1943\n",
       "Name: lighting, dtype: int64"
      ]
     },
     "execution_count": 13,
     "metadata": {},
     "output_type": "execute_result"
    }
   ],
   "source": [
    "df['lighting'].value_counts()"
   ]
  },
  {
   "cell_type": "code",
   "execution_count": 14,
   "metadata": {},
   "outputs": [],
   "source": [
    "#aggregating 'night - street lighting off', 'night - no street lighting', 'sunset or dawn' into 'altered lighting conditions'\n",
    "#”night - street lighting on”, “day light” into ”good lighting conditions”.\n",
    "df['lighting']=np.where(df['lighting']=='night - street lighting off', 'altered lighting conditions',df['lighting'])\n",
    "df['lighting']=np.where(df['lighting']=='night - no street lighting', 'altered lighting conditions',df['lighting'])\n",
    "df['lighting']=np.where(df['lighting']=='sunset or dawn', 'altered lighting conditions',df['lighting'])\n",
    "df['lighting']=np.where((df['lighting']=='day light')|(df['lighting']=='night - street lighting on'), 'good lighting conditions',df['lighting'])"
   ]
  },
  {
   "cell_type": "code",
   "execution_count": 12,
   "metadata": {},
   "outputs": [
    {
     "data": {
      "text/plain": [
       "belt - used                                  220151\n",
       "belt - use not determined                     27242\n",
       "belt - not used                                3636\n",
       "other - use not determined                     3214\n",
       "other - used                                    312\n",
       "other - not used                                193\n",
       "belt                                             58\n",
       "reflective equipment - used                      45\n",
       "reflective equipment - use not determined        22\n",
       "child restraint - used                            9\n",
       "helmet                                            3\n",
       "child restraint                                   2\n",
       "Name: secu_equipment, dtype: int64"
      ]
     },
     "execution_count": 12,
     "metadata": {},
     "output_type": "execute_result"
    }
   ],
   "source": [
    "df['secu_equipment'].value_counts()"
   ]
  },
  {
   "cell_type": "code",
   "execution_count": 15,
   "metadata": {},
   "outputs": [],
   "source": [
    "# grouping secu_equipment variable into:\n",
    "# - belt-used, belt-not used - no change\n",
    "# belt - put in belt - use not determined\n",
    "#child restraint, helmet, refl equipment - use not det, other - use not det = other - use not det\n",
    "#child restraint - used, refl equipment - used, other - used = other used\n",
    "df['secu_equipment']=np.where(df['secu_equipment']=='belt', 'belt - use not determined',df['secu_equipment'])\n",
    "df['secu_equipment']=np.where((df['secu_equipment'] == 'child restraint')|(df['secu_equipment'] == 'helmet')|(df['secu_equipment'] == 'reflective equipment - use not determined'), 'other - use not determined',df['secu_equipment'])\n",
    "df['secu_equipment']=np.where((df['secu_equipment'] == 'child restraint - used')|(df['secu_equipment'] == 'reflective equipment - used'), 'other - used',df['secu_equipment'])\n"
   ]
  },
  {
   "cell_type": "code",
   "execution_count": 17,
   "metadata": {},
   "outputs": [
    {
     "data": {
      "text/plain": [
       "normal                 197281\n",
       "drizzle                 31940\n",
       "cloudy weather           9586\n",
       "heavy rain               6772\n",
       "snow - hail              2484\n",
       "other                    2164\n",
       "fog - smoke              2058\n",
       "fine weather             1993\n",
       "strong wind - storm       609\n",
       "Name: atmospheric_cond, dtype: int64"
      ]
     },
     "execution_count": 17,
     "metadata": {},
     "output_type": "execute_result"
    }
   ],
   "source": [
    "df['atmospheric_cond'].value_counts()"
   ]
  },
  {
   "cell_type": "code",
   "execution_count": 18,
   "metadata": {},
   "outputs": [],
   "source": [
    "# grouping atmospheric_cond variable\n",
    "# normal+fine=normal\n",
    "#storm, heavy rain, snow - hail, fog - smoke = severe weather\n",
    "df['atmospheric_cond']=np.where(df['atmospheric_cond'] == 'fine weather', 'normal',df['atmospheric_cond'])\n",
    "df['atmospheric_cond']=np.where((df['atmospheric_cond'] == 'strong wind - storm')|(df['atmospheric_cond'] == 'heavy rain')\n",
    "                                |(df['atmospheric_cond'] == 'snow - hail')|(df['atmospheric_cond'] == 'fog - smoke'), 'severe weather',df['atmospheric_cond'])"
   ]
  },
  {
   "cell_type": "code",
   "execution_count": 19,
   "metadata": {},
   "outputs": [
    {
     "data": {
      "text/plain": [
       "municipal road             107705\n",
       "departmental road           98967\n",
       "national road               23095\n",
       "highway                     20368\n",
       "other                        3490\n",
       "public parking area          1047\n",
       "off public road network       215\n",
       "Name: road_type, dtype: int64"
      ]
     },
     "execution_count": 19,
     "metadata": {},
     "output_type": "execute_result"
    }
   ],
   "source": [
    "df['road_type'].value_counts()"
   ]
  },
  {
   "cell_type": "code",
   "execution_count": 20,
   "metadata": {},
   "outputs": [],
   "source": [
    "# grouping road_type\n",
    "#other, public parking area, off public road network = other\n",
    "df['road_type']=np.where((df['road_type'] == 'public parking area')|\n",
    "                         (df['road_type'] == 'off public road network'), 'other',df['road_type'])"
   ]
  },
  {
   "cell_type": "code",
   "execution_count": 21,
   "metadata": {},
   "outputs": [
    {
     "data": {
      "text/plain": [
       "normal     196701\n",
       "wet         52956\n",
       "icy          2127\n",
       "snowy        1399\n",
       "other         763\n",
       "oily          533\n",
       "puddles       262\n",
       "flooded        84\n",
       "mud            62\n",
       "Name: surface_state, dtype: int64"
      ]
     },
     "execution_count": 21,
     "metadata": {},
     "output_type": "execute_result"
    }
   ],
   "source": [
    "df['surface_state'].value_counts()"
   ]
  },
  {
   "cell_type": "code",
   "execution_count": 22,
   "metadata": {},
   "outputs": [],
   "source": [
    "# grouping surface_state \n",
    "# icy+snowy = icy/snowy\n",
    "#oily, puddles, flooded, mud, other - other\n",
    "df['surface_state']=np.where((df['surface_state'] == 'icy')|(df['surface_state'] == 'snowy')\n",
    "                                                             |(df['surface_state'] == 'oily')\n",
    "                                                             |(df['surface_state'] == 'puddles')\n",
    "                             |(df['surface_state'] == 'flooded')|(df['surface_state'] == 'mud')\n",
    "                                                             |(df['surface_state'] == 'wet')|(df['surface_state'] == 'other'),\n",
    "                             'altered',df['surface_state'])"
   ]
  },
  {
   "cell_type": "code",
   "execution_count": 23,
   "metadata": {},
   "outputs": [
    {
     "data": {
      "text/plain": [
       "straight-lined part    212799\n",
       "right curve             19723\n",
       "left curve              18816\n",
       "S-shaped                 3549\n",
       "Name: road_shape, dtype: int64"
      ]
     },
     "execution_count": 23,
     "metadata": {},
     "output_type": "execute_result"
    }
   ],
   "source": [
    "# grouping road shape - all the curves have higher % of killed/hospitalised victims, so\n",
    "# straight line vs. curves\n",
    "df['road_shape'].value_counts()"
   ]
  },
  {
   "cell_type": "code",
   "execution_count": 24,
   "metadata": {},
   "outputs": [],
   "source": [
    "df['road_shape']=np.where((df['road_shape'] == 'right curve')|(df['road_shape'] == 'left curve')\n",
    "                          |(df['road_shape'] == 'S-shaped'), 'curved',df['road_shape'])"
   ]
  },
  {
   "cell_type": "code",
   "execution_count": 25,
   "metadata": {},
   "outputs": [
    {
     "data": {
      "text/plain": [
       "on the lane              251188\n",
       "on the shoulder            2116\n",
       "on the emergency lane      1128\n",
       "on the footpath             401\n",
       "on the cycling lane          54\n",
       "Name: acc_place_on_road, dtype: int64"
      ]
     },
     "execution_count": 25,
     "metadata": {},
     "output_type": "execute_result"
    }
   ],
   "source": [
    "df['acc_place_on_road'].value_counts()"
   ]
  },
  {
   "cell_type": "code",
   "execution_count": 26,
   "metadata": {},
   "outputs": [],
   "source": [
    "# acc_place_on_road\n",
    "#group on the emerg, footpath and cycling lane together\n",
    "df['acc_place_on_road']=np.where((df['acc_place_on_road'] == 'on the emergency lane')|\n",
    "                                 (df['acc_place_on_road'] == 'on the footpath')\n",
    "                          |(df['acc_place_on_road'] == 'on the cycling lane'), 'out of lane',df['acc_place_on_road'])\n"
   ]
  },
  {
   "cell_type": "code",
   "execution_count": 27,
   "metadata": {},
   "outputs": [
    {
     "data": {
      "text/plain": [
       "front              106631\n",
       "left front          46800\n",
       "rear                31301\n",
       "right front         27789\n",
       "left side           15314\n",
       "right side          12441\n",
       "left rear            7763\n",
       "right rear           5573\n",
       "multiple shocks      1275\n",
       "Name: shock_point, dtype: int64"
      ]
     },
     "execution_count": 27,
     "metadata": {},
     "output_type": "execute_result"
    }
   ],
   "source": [
    "df['shock_point'].value_counts()\n"
   ]
  },
  {
   "cell_type": "code",
   "execution_count": 28,
   "metadata": {},
   "outputs": [],
   "source": [
    "# shock_point - front, rear, side (in side put multiple shocks as well, \n",
    "#very few obs and similar pattern for y - more killed&hosp)\n",
    "df['shock_point']=np.where((df['shock_point'] == 'left front')|\n",
    "                                 (df['shock_point'] == 'right front'), 'front',df['shock_point'])\n",
    "\n",
    "df['shock_point']=np.where((df['shock_point'] == 'left rear')|\n",
    "                                 (df['shock_point'] == 'right rear'), 'rear',df['shock_point'])\n",
    "\n",
    "df['shock_point']=np.where((df['shock_point'] == 'left side')|\n",
    "                                 (df['shock_point'] == 'right side')|\n",
    "                          (df['shock_point'] == 'multiple shocks'), 'side',df['shock_point'])"
   ]
  },
  {
   "cell_type": "code",
   "execution_count": 29,
   "metadata": {},
   "outputs": [
    {
     "data": {
      "text/plain": [
       "leisury drive       114899\n",
       "unknown              52804\n",
       "home - work          39442\n",
       "other                20187\n",
       "professional use     16466\n",
       "shopping              8030\n",
       "home - school         3059\n",
       "Name: journey_reason, dtype: int64"
      ]
     },
     "execution_count": 29,
     "metadata": {},
     "output_type": "execute_result"
    }
   ],
   "source": [
    "df['journey_reason'].value_counts()\n"
   ]
  },
  {
   "cell_type": "code",
   "execution_count": 30,
   "metadata": {},
   "outputs": [],
   "source": [
    "# journey_reason\n",
    "#grouping unknown+other\n",
    "#grouping home-work+home-school\n",
    "#grouping shopping+leisure drive\n",
    "df['journey_reason']=np.where(df['journey_reason'] == 'unknown', 'other',df['journey_reason'])\n",
    "\n",
    "df['journey_reason']=np.where((df['journey_reason'] == 'home - work')|\n",
    "                                 (df['journey_reason'] == 'home - school'), 'home - work/school',df['journey_reason'])\n",
    "df['journey_reason']=np.where(df['journey_reason'] == 'shopping', 'leisury drive',df['journey_reason'])\n"
   ]
  },
  {
   "cell_type": "markdown",
   "metadata": {},
   "source": [
    "## Creating binary outcome for CNN with transfer learning"
   ]
  },
  {
   "cell_type": "code",
   "execution_count": 37,
   "metadata": {},
   "outputs": [],
   "source": [
    "### creating outcome with 2 classes for CNN with transfer learning\n",
    "df['severity2']=df['severity']\n",
    "df['severity2']= np.where((df['severity2']=='killed')|(df['severity2']=='hospitalised')|(df['severity2']=='serious injury/death')\n",
    "                         |(df['severity2']=='light injury') , 'injury',df['severity2'])"
   ]
  },
  {
   "cell_type": "code",
   "execution_count": 39,
   "metadata": {},
   "outputs": [],
   "source": [
    "#export the dataset after categorical data treatment\n",
    "path=r\"C:\\Users\\strog\\Documents\\Google Dr Backup\\Google Dr Glasgow DA Master\\Final Project\\scripts\\subset_2class_agg.csv\"\n",
    "df.to_csv(path, encoding='utf-8', index=False)"
   ]
  }
 ],
 "metadata": {
  "kernelspec": {
   "display_name": "Python 3",
   "language": "python",
   "name": "python3"
  },
  "language_info": {
   "codemirror_mode": {
    "name": "ipython",
    "version": 3
   },
   "file_extension": ".py",
   "mimetype": "text/x-python",
   "name": "python",
   "nbconvert_exporter": "python",
   "pygments_lexer": "ipython3",
   "version": "3.7.3"
  }
 },
 "nbformat": 4,
 "nbformat_minor": 2
}
